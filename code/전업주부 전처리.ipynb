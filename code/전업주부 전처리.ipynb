{
 "cells": [
  {
   "cell_type": "code",
   "execution_count": 1,
   "metadata": {},
   "outputs": [],
   "source": [
    "import pandas as pd\n",
    "data19=pd.read_csv(\"data_2019.csv\",encoding='CP949')"
   ]
  },
  {
   "cell_type": "code",
   "execution_count": 2,
   "metadata": {},
   "outputs": [],
   "source": [
    "import numpy as np\n",
    "data19['연령대'] = np.where((data19['연령대']=='A') | (data19['연령대']=='H') , 1, data19['연령대'])\n",
    "data19['연령대'] = np.where((data19['연령대']=='B') | (data19['연령대']=='F') | (data19['연령대']=='G') , 2, data19['연령대'])\n",
    "data19['연령대'] = np.where((data19['연령대']=='C') | (data19['연령대']=='D') | (data19['연령대']=='E') , 3, data19['연령대'])"
   ]
  },
  {
   "cell_type": "code",
   "execution_count": 3,
   "metadata": {},
   "outputs": [
    {
     "data": {
      "text/html": [
       "<div>\n",
       "<style scoped>\n",
       "    .dataframe tbody tr th:only-of-type {\n",
       "        vertical-align: middle;\n",
       "    }\n",
       "\n",
       "    .dataframe tbody tr th {\n",
       "        vertical-align: top;\n",
       "    }\n",
       "\n",
       "    .dataframe thead th {\n",
       "        text-align: right;\n",
       "    }\n",
       "</style>\n",
       "<table border=\"1\" class=\"dataframe\">\n",
       "  <thead>\n",
       "    <tr style=\"text-align: right;\">\n",
       "      <th></th>\n",
       "      <th>YM</th>\n",
       "      <th>Category</th>\n",
       "      <th>성별구분</th>\n",
       "      <th>연령대</th>\n",
       "      <th>기혼스코어</th>\n",
       "      <th>유아자녀스코어</th>\n",
       "      <th>초등학생자녀스코어</th>\n",
       "      <th>중고생자녀스코어</th>\n",
       "      <th>대학생자녀스코어</th>\n",
       "      <th>전업주부스코어</th>\n",
       "    </tr>\n",
       "  </thead>\n",
       "  <tbody>\n",
       "    <tr>\n",
       "      <th>0</th>\n",
       "      <td>201905</td>\n",
       "      <td>전문몰</td>\n",
       "      <td>1</td>\n",
       "      <td>3</td>\n",
       "      <td>1</td>\n",
       "      <td>1</td>\n",
       "      <td>1</td>\n",
       "      <td>1</td>\n",
       "      <td>1</td>\n",
       "      <td>2</td>\n",
       "    </tr>\n",
       "    <tr>\n",
       "      <th>1</th>\n",
       "      <td>201905</td>\n",
       "      <td>전문몰</td>\n",
       "      <td>1</td>\n",
       "      <td>3</td>\n",
       "      <td>2</td>\n",
       "      <td>2</td>\n",
       "      <td>1</td>\n",
       "      <td>1</td>\n",
       "      <td>1</td>\n",
       "      <td>2</td>\n",
       "    </tr>\n",
       "    <tr>\n",
       "      <th>2</th>\n",
       "      <td>201905</td>\n",
       "      <td>할인점</td>\n",
       "      <td>1</td>\n",
       "      <td>2</td>\n",
       "      <td>3</td>\n",
       "      <td>1</td>\n",
       "      <td>2</td>\n",
       "      <td>2</td>\n",
       "      <td>2</td>\n",
       "      <td>2</td>\n",
       "    </tr>\n",
       "    <tr>\n",
       "      <th>3</th>\n",
       "      <td>201905</td>\n",
       "      <td>전문몰</td>\n",
       "      <td>0</td>\n",
       "      <td>2</td>\n",
       "      <td>3</td>\n",
       "      <td>1</td>\n",
       "      <td>2</td>\n",
       "      <td>2</td>\n",
       "      <td>2</td>\n",
       "      <td>1</td>\n",
       "    </tr>\n",
       "    <tr>\n",
       "      <th>4</th>\n",
       "      <td>201905</td>\n",
       "      <td>전문몰</td>\n",
       "      <td>1</td>\n",
       "      <td>1</td>\n",
       "      <td>3</td>\n",
       "      <td>1</td>\n",
       "      <td>1</td>\n",
       "      <td>1</td>\n",
       "      <td>2</td>\n",
       "      <td>2</td>\n",
       "    </tr>\n",
       "    <tr>\n",
       "      <th>5</th>\n",
       "      <td>201905</td>\n",
       "      <td>디저트</td>\n",
       "      <td>1</td>\n",
       "      <td>3</td>\n",
       "      <td>3</td>\n",
       "      <td>3</td>\n",
       "      <td>2</td>\n",
       "      <td>2</td>\n",
       "      <td>1</td>\n",
       "      <td>2</td>\n",
       "    </tr>\n",
       "    <tr>\n",
       "      <th>6</th>\n",
       "      <td>201905</td>\n",
       "      <td>전문몰</td>\n",
       "      <td>0</td>\n",
       "      <td>1</td>\n",
       "      <td>3</td>\n",
       "      <td>1</td>\n",
       "      <td>1</td>\n",
       "      <td>1</td>\n",
       "      <td>1</td>\n",
       "      <td>1</td>\n",
       "    </tr>\n",
       "    <tr>\n",
       "      <th>7</th>\n",
       "      <td>201905</td>\n",
       "      <td>전문몰</td>\n",
       "      <td>1</td>\n",
       "      <td>1</td>\n",
       "      <td>3</td>\n",
       "      <td>2</td>\n",
       "      <td>1</td>\n",
       "      <td>2</td>\n",
       "      <td>1</td>\n",
       "      <td>2</td>\n",
       "    </tr>\n",
       "    <tr>\n",
       "      <th>8</th>\n",
       "      <td>201905</td>\n",
       "      <td>오픈마켓/소셜</td>\n",
       "      <td>1</td>\n",
       "      <td>2</td>\n",
       "      <td>3</td>\n",
       "      <td>1</td>\n",
       "      <td>2</td>\n",
       "      <td>2</td>\n",
       "      <td>2</td>\n",
       "      <td>2</td>\n",
       "    </tr>\n",
       "    <tr>\n",
       "      <th>9</th>\n",
       "      <td>201905</td>\n",
       "      <td>디저트</td>\n",
       "      <td>1</td>\n",
       "      <td>3</td>\n",
       "      <td>2</td>\n",
       "      <td>3</td>\n",
       "      <td>2</td>\n",
       "      <td>2</td>\n",
       "      <td>1</td>\n",
       "      <td>2</td>\n",
       "    </tr>\n",
       "  </tbody>\n",
       "</table>\n",
       "</div>"
      ],
      "text/plain": [
       "       YM Category  성별구분 연령대  기혼스코어  유아자녀스코어  초등학생자녀스코어  중고생자녀스코어  대학생자녀스코어  \\\n",
       "0  201905      전문몰     1   3      1        1          1         1         1   \n",
       "1  201905      전문몰     1   3      2        2          1         1         1   \n",
       "2  201905      할인점     1   2      3        1          2         2         2   \n",
       "3  201905      전문몰     0   2      3        1          2         2         2   \n",
       "4  201905      전문몰     1   1      3        1          1         1         2   \n",
       "5  201905      디저트     1   3      3        3          2         2         1   \n",
       "6  201905      전문몰     0   1      3        1          1         1         1   \n",
       "7  201905      전문몰     1   1      3        2          1         2         1   \n",
       "8  201905  오픈마켓/소셜     1   2      3        1          2         2         2   \n",
       "9  201905      디저트     1   3      2        3          2         2         1   \n",
       "\n",
       "   전업주부스코어  \n",
       "0        2  \n",
       "1        2  \n",
       "2        2  \n",
       "3        1  \n",
       "4        2  \n",
       "5        2  \n",
       "6        1  \n",
       "7        2  \n",
       "8        2  \n",
       "9        2  "
      ]
     },
     "execution_count": 3,
     "metadata": {},
     "output_type": "execute_result"
    }
   ],
   "source": [
    "data19.head(10)"
   ]
  },
  {
   "cell_type": "code",
   "execution_count": 4,
   "metadata": {},
   "outputs": [
    {
     "data": {
      "text/plain": [
       "Category\n",
       "할인점        15221\n",
       "전문몰        13919\n",
       "디저트        10780\n",
       "오픈마켓/소셜     8019\n",
       "취미          2371\n",
       "뷰티          2264\n",
       "종합몰         1898\n",
       "호텔/숙박       1096\n",
       "항공/여행사       909\n",
       "면세점          398\n",
       "Name: Category, dtype: int64"
      ]
     },
     "execution_count": 4,
     "metadata": {},
     "output_type": "execute_result"
    }
   ],
   "source": [
    "data19.groupby(['연령대'])['Category'].value_counts()[1]"
   ]
  },
  {
   "cell_type": "code",
   "execution_count": 7,
   "metadata": {},
   "outputs": [],
   "source": [
    "data20=pd.read_csv(\"data_2020.csv\",encoding='CP949')"
   ]
  },
  {
   "cell_type": "code",
   "execution_count": 8,
   "metadata": {},
   "outputs": [],
   "source": [
    "data20['연령대'] = np.where((data20['연령대']=='A') | (data20['연령대']=='H') , 1, data20['연령대'])\n",
    "data20['연령대'] = np.where((data20['연령대']=='B') | (data20['연령대']=='F') | (data20['연령대']=='G') , 2, data20['연령대'])\n",
    "data20['연령대'] = np.where((data20['연령대']=='C') | (data20['연령대']=='D') | (data20['연령대']=='E') , 3, data20['연령대'])"
   ]
  },
  {
   "cell_type": "code",
   "execution_count": 9,
   "metadata": {},
   "outputs": [
    {
     "data": {
      "text/plain": [
       "연령대  Category\n",
       "1    전문몰         15355\n",
       "     디저트         10364\n",
       "     오픈마켓/소셜      9944\n",
       "     할인점          9823\n",
       "     종합몰          2009\n",
       "     뷰티           1715\n",
       "     취미           1622\n",
       "     호텔/숙박         682\n",
       "     항공/여행사        316\n",
       "     면세점            46\n",
       "2    전문몰         22828\n",
       "     디저트         15595\n",
       "     오픈마켓/소셜     13145\n",
       "     할인점         13117\n",
       "     뷰티           2928\n",
       "     취미           2801\n",
       "     종합몰          2321\n",
       "     호텔/숙박         996\n",
       "     항공/여행사        488\n",
       "     면세점            49\n",
       "3    전문몰         25313\n",
       "     오픈마켓/소셜     19544\n",
       "     디저트         17046\n",
       "     할인점          9759\n",
       "     뷰티           3946\n",
       "     종합몰          3425\n",
       "     취미           3050\n",
       "     호텔/숙박        1481\n",
       "     항공/여행사        660\n",
       "     면세점           100\n",
       "Name: Category, dtype: int64"
      ]
     },
     "execution_count": 9,
     "metadata": {},
     "output_type": "execute_result"
    }
   ],
   "source": [
    "data20.groupby(['연령대'])['Category'].value_counts()"
   ]
  },
  {
   "cell_type": "code",
   "execution_count": 11,
   "metadata": {},
   "outputs": [
    {
     "data": {
      "text/plain": [
       "Index(['YM', 'Category', '성별구분', '연령대', '기혼스코어', '유아자녀스코어', '초등학생자녀스코어',\n",
       "       '중고생자녀스코어', '대학생자녀스코어', '전업주부스코어'],\n",
       "      dtype='object')"
      ]
     },
     "execution_count": 11,
     "metadata": {},
     "output_type": "execute_result"
    }
   ],
   "source": [
    "data20.columns"
   ]
  },
  {
   "cell_type": "code",
   "execution_count": 12,
   "metadata": {},
   "outputs": [
    {
     "name": "stderr",
     "output_type": "stream",
     "text": [
      "C:\\Users\\yurik\\anaconda3\\lib\\site-packages\\pyecharts\\charts\\chart.py:14: PendingDeprecationWarning: pyecharts 所有图表类型将在 v1.9.0 版本开始强制使用 ChartItem 进行数据项配置 :)\n",
      "  super().__init__(init_opts=init_opts)\n"
     ]
    },
    {
     "ename": "NameError",
     "evalue": "name 'first' is not defined",
     "output_type": "error",
     "traceback": [
      "\u001b[1;31m---------------------------------------------------------------------------\u001b[0m",
      "\u001b[1;31mNameError\u001b[0m                                 Traceback (most recent call last)",
      "\u001b[1;32m<ipython-input-12-3474234adbb2>\u001b[0m in \u001b[0;36m<module>\u001b[1;34m\u001b[0m\n\u001b[0;32m      7\u001b[0m     .add(\n\u001b[0;32m      8\u001b[0m         \u001b[1;34m\"2019\"\u001b[0m\u001b[1;33m,\u001b[0m\u001b[1;33m\u001b[0m\u001b[1;33m\u001b[0m\u001b[0m\n\u001b[1;32m----> 9\u001b[1;33m         \u001b[1;33m[\u001b[0m\u001b[0mlist\u001b[0m\u001b[1;33m(\u001b[0m\u001b[0mz\u001b[0m\u001b[1;33m)\u001b[0m \u001b[1;32mfor\u001b[0m \u001b[0mz\u001b[0m \u001b[1;32min\u001b[0m \u001b[0mzip\u001b[0m\u001b[1;33m(\u001b[0m\u001b[0mfirst\u001b[0m\u001b[1;33m,\u001b[0m\u001b[0mfirst1\u001b[0m\u001b[1;33m)\u001b[0m\u001b[1;33m]\u001b[0m\u001b[1;33m,\u001b[0m\u001b[1;33m\u001b[0m\u001b[1;33m\u001b[0m\u001b[0m\n\u001b[0m\u001b[0;32m     10\u001b[0m         \u001b[0mradius\u001b[0m\u001b[1;33m=\u001b[0m\u001b[1;33m[\u001b[0m\u001b[1;34m\"27%\"\u001b[0m\u001b[1;33m,\u001b[0m \u001b[1;34m\"61%\"\u001b[0m\u001b[1;33m]\u001b[0m\u001b[1;33m,\u001b[0m\u001b[1;33m\u001b[0m\u001b[1;33m\u001b[0m\u001b[0m\n\u001b[0;32m     11\u001b[0m         \u001b[0mcenter\u001b[0m\u001b[1;33m=\u001b[0m\u001b[1;33m[\u001b[0m\u001b[1;34m\"27%\"\u001b[0m\u001b[1;33m,\u001b[0m \u001b[1;34m\"50%\"\u001b[0m\u001b[1;33m]\u001b[0m\u001b[1;33m,\u001b[0m\u001b[1;33m\u001b[0m\u001b[1;33m\u001b[0m\u001b[0m\n",
      "\u001b[1;31mNameError\u001b[0m: name 'first' is not defined"
     ]
    }
   ],
   "source": [
    "from pyecharts import options as opts\n",
    "from pyecharts.charts import Pie\n",
    "from pyecharts.globals import ThemeType\n",
    "\n",
    "c = (\n",
    "    Pie(opts.InitOpts(width = '1200px',height = '650px',theme=ThemeType.INFOGRAPHIC))\n",
    "    .add(\n",
    "        \"2019\",\n",
    "        [list(z) for z in zip(first,first1)],\n",
    "        radius=[\"27%\", \"61%\"],\n",
    "        center=[\"27%\", \"50%\"],\n",
    "        rosetype=\"radius\",\n",
    "    )\n",
    "    \n",
    "    .set_global_opts(title_opts=opts.TitleOpts(title=\"종합몰 전업주부스코어\"),\n",
    "                    legend_opts=opts.LegendOpts(type_=\"scroll\", pos_left=\"25%\"),)\n",
    "    .set_series_opts(label_opts=opts.LabelOpts(formatter=\"{b}: {c}\"))\n",
    "    #.set_colors([\"blue\", \"green\", \"yellow\", \"red\", \"pink\", \"orange\", \"purple\"])\n",
    "    .render(\"group3_category.html\")\n",
    ")\n",
    "\n",
    "c"
   ]
  },
  {
   "cell_type": "code",
   "execution_count": 37,
   "metadata": {},
   "outputs": [
    {
     "data": {
      "text/plain": [
       "['할인점', '전문몰', '디저트', '오픈마켓/소셜', '취미', '뷰티', '종합몰', '호텔/숙박', '항공/여행사', '면세점']"
      ]
     },
     "execution_count": 37,
     "metadata": {},
     "output_type": "execute_result"
    }
   ],
   "source": [
    "list(data19.groupby(['연령대'])['Category'].value_counts()[1].index.values)"
   ]
  },
  {
   "cell_type": "code",
   "execution_count": 38,
   "metadata": {},
   "outputs": [
    {
     "data": {
      "text/plain": [
       "['전문몰', '디저트', '오픈마켓/소셜', '할인점', '종합몰', '뷰티', '취미', '호텔/숙박', '항공/여행사', '면세점']"
      ]
     },
     "execution_count": 38,
     "metadata": {},
     "output_type": "execute_result"
    }
   ],
   "source": [
    "list(data20.groupby(['연령대'])['Category'].value_counts()[1].index.values)"
   ]
  },
  {
   "cell_type": "code",
   "execution_count": 39,
   "metadata": {},
   "outputs": [
    {
     "data": {
      "text/plain": [
       "[15221, 13919, 10780, 8019, 2371, 2264, 1898, 1096, 909, 398]"
      ]
     },
     "execution_count": 39,
     "metadata": {},
     "output_type": "execute_result"
    }
   ],
   "source": [
    "list(data19.groupby(['연령대'])['Category'].value_counts()[1].values)"
   ]
  },
  {
   "cell_type": "code",
   "execution_count": 40,
   "metadata": {},
   "outputs": [
    {
     "data": {
      "text/plain": [
       "[15355, 10364, 9944, 9823, 2009, 1715, 1622, 682, 316, 46]"
      ]
     },
     "execution_count": 40,
     "metadata": {},
     "output_type": "execute_result"
    }
   ],
   "source": [
    "list(data20.groupby(['연령대'])['Category'].value_counts()[1].values)"
   ]
  },
  {
   "cell_type": "code",
   "execution_count": null,
   "metadata": {},
   "outputs": [],
   "source": []
  }
 ],
 "metadata": {
  "kernelspec": {
   "display_name": "Python 3",
   "language": "python",
   "name": "python3"
  },
  "language_info": {
   "codemirror_mode": {
    "name": "ipython",
    "version": 3
   },
   "file_extension": ".py",
   "mimetype": "text/x-python",
   "name": "python",
   "nbconvert_exporter": "python",
   "pygments_lexer": "ipython3",
   "version": "3.8.3"
  }
 },
 "nbformat": 4,
 "nbformat_minor": 4
}
