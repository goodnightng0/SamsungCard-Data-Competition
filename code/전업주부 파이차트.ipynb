{
 "cells": [
  {
   "cell_type": "code",
   "execution_count": 5,
   "metadata": {},
   "outputs": [],
   "source": [
    "import pandas as pd"
   ]
  },
  {
   "cell_type": "code",
   "execution_count": 32,
   "metadata": {},
   "outputs": [],
   "source": [
    "name_temp=['할인점', '전문몰', '디저트', '오픈마켓/소셜', '취미', '뷰티', '종합몰', '호텔/숙박', '항공/여행사', '면세점']\n",
    "name_temp2=['전문몰', '디저트', '오픈마켓/소셜', '할인점', '종합몰', '뷰티', '취미', '호텔/숙박', '항공/여행사', '면세점']\n",
    "\n",
    "\n",
    "#j_19=dict()\n",
    "j_19=[15221, 13919, 10780, 8019, 2371, 2264, 1898, 1096, 909, 398]\n",
    "j_20=[15355, 10364, 9944, 9823, 2009, 1715, 1622, 682, 316, 46]"
   ]
  },
  {
   "cell_type": "code",
   "execution_count": 33,
   "metadata": {},
   "outputs": [
    {
     "data": {
      "text/plain": [
       "[7610, 6959, 5390, 4009, 1185, 1132, 949, 548, 454, 199]"
      ]
     },
     "execution_count": 33,
     "metadata": {},
     "output_type": "execute_result"
    }
   ],
   "source": [
    "j_19[:] = [int(x / 2) for x in j_19]\n",
    "j_20[:] = [int(x / 2) for x in j_20]\n",
    "j_19"
   ]
  },
  {
   "cell_type": "code",
   "execution_count": 34,
   "metadata": {},
   "outputs": [
    {
     "name": "stderr",
     "output_type": "stream",
     "text": [
      "C:\\Users\\yurik\\anaconda3\\lib\\site-packages\\pyecharts\\charts\\chart.py:14: PendingDeprecationWarning: pyecharts 所有图表类型将在 v1.9.0 版本开始强制使用 ChartItem 进行数据项配置 :)\n",
      "  super().__init__(init_opts=init_opts)\n"
     ]
    },
    {
     "data": {
      "text/plain": [
       "'C:\\\\Users\\\\yurik\\\\juptyer\\\\삼성\\\\Pie_1.html'"
      ]
     },
     "execution_count": 34,
     "metadata": {},
     "output_type": "execute_result"
    }
   ],
   "source": [
    "from pyecharts import options as opts\n",
    "from pyecharts.charts import Pie\n",
    "from pyecharts.globals import ThemeType\n",
    "\n",
    "c = (\n",
    "    Pie(opts.InitOpts(width = '1200px',height = '650px',theme=ThemeType.INFOGRAPHIC))\n",
    "    .add(\n",
    "        \"2019\",\n",
    "        [list(z) for z in zip(name_temp,list(j_19))],\n",
    "        radius=[\"28%\", \"61%\"],\n",
    "        center=[\"28%\", \"50%\"],\n",
    "        rosetype=\"radius\",\n",
    "    )\n",
    "    .add(\n",
    "        \"2020\",\n",
    "        [list(z) for z in zip(name_temp2,list(j_20))],\n",
    "        radius=[\"30%\", \"61%\"],\n",
    "        center=[\"73%\", \"50%\"],\n",
    "        rosetype=\"radius\",\n",
    "    )\n",
    "    .set_global_opts(title_opts=opts.TitleOpts(title=\"Group 1 품목별 파이차트\"),\n",
    "                    legend_opts=opts.LegendOpts(type_=\"scroll\", pos_left=\"25%\"),)\n",
    "    .set_series_opts(label_opts=opts.LabelOpts(formatter=\"{b}: {c}\"))\n",
    "    .render(\"Pie_1.html\")\n",
    ")\n",
    "\n",
    "c"
   ]
  },
  {
   "cell_type": "code",
   "execution_count": 17,
   "metadata": {},
   "outputs": [
    {
     "data": {
      "text/plain": [
       "[27667, 38779, 46337, 60116, 86039, 114877]"
      ]
     },
     "execution_count": 17,
     "metadata": {},
     "output_type": "execute_result"
    }
   ],
   "source": [
    "list(j_19.values())"
   ]
  },
  {
   "cell_type": "code",
   "execution_count": 18,
   "metadata": {},
   "outputs": [
    {
     "data": {
      "text/plain": [
       "['2019 1st', '2019 2nd', '2019 3rd', '2020 1st', '2020 2nd', '2020 3rd']"
      ]
     },
     "execution_count": 18,
     "metadata": {},
     "output_type": "execute_result"
    }
   ],
   "source": [
    "name_temp"
   ]
  },
  {
   "cell_type": "code",
   "execution_count": null,
   "metadata": {},
   "outputs": [],
   "source": []
  }
 ],
 "metadata": {
  "kernelspec": {
   "display_name": "Python 3",
   "language": "python",
   "name": "python3"
  },
  "language_info": {
   "codemirror_mode": {
    "name": "ipython",
    "version": 3
   },
   "file_extension": ".py",
   "mimetype": "text/x-python",
   "name": "python",
   "nbconvert_exporter": "python",
   "pygments_lexer": "ipython3",
   "version": "3.8.3"
  }
 },
 "nbformat": 4,
 "nbformat_minor": 4
}
