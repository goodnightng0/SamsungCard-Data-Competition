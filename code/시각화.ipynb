{
 "cells": [
  {
   "cell_type": "code",
   "execution_count": 1,
   "metadata": {},
   "outputs": [
    {
     "ename": "FileNotFoundError",
     "evalue": "[Errno 2] No such file or directory: 'f_h_1.csv'",
     "output_type": "error",
     "traceback": [
      "\u001b[1;31m---------------------------------------------------------------------------\u001b[0m",
      "\u001b[1;31mFileNotFoundError\u001b[0m                         Traceback (most recent call last)",
      "\u001b[1;32m<ipython-input-1-50d0f35287a5>\u001b[0m in \u001b[0;36m<module>\u001b[1;34m\u001b[0m\n\u001b[0;32m      1\u001b[0m \u001b[1;32mimport\u001b[0m \u001b[0mpandas\u001b[0m \u001b[1;32mas\u001b[0m \u001b[0mpd\u001b[0m\u001b[1;33m\u001b[0m\u001b[1;33m\u001b[0m\u001b[0m\n\u001b[1;32m----> 2\u001b[1;33m \u001b[0mdata\u001b[0m\u001b[1;33m=\u001b[0m\u001b[0mpd\u001b[0m\u001b[1;33m.\u001b[0m\u001b[0mread_csv\u001b[0m\u001b[1;33m(\u001b[0m\u001b[1;34m\"f_h_1.csv\"\u001b[0m\u001b[1;33m,\u001b[0m\u001b[0mencoding\u001b[0m\u001b[1;33m=\u001b[0m\u001b[1;34m'CP949'\u001b[0m\u001b[1;33m)\u001b[0m\u001b[1;33m\u001b[0m\u001b[1;33m\u001b[0m\u001b[0m\n\u001b[0m\u001b[0;32m      3\u001b[0m \u001b[0mdata\u001b[0m\u001b[1;33m.\u001b[0m\u001b[0mhead\u001b[0m\u001b[1;33m\u001b[0m\u001b[1;33m\u001b[0m\u001b[0m\n",
      "\u001b[1;32m~\\anaconda3\\lib\\site-packages\\pandas\\io\\parsers.py\u001b[0m in \u001b[0;36mparser_f\u001b[1;34m(filepath_or_buffer, sep, delimiter, header, names, index_col, usecols, squeeze, prefix, mangle_dupe_cols, dtype, engine, converters, true_values, false_values, skipinitialspace, skiprows, skipfooter, nrows, na_values, keep_default_na, na_filter, verbose, skip_blank_lines, parse_dates, infer_datetime_format, keep_date_col, date_parser, dayfirst, cache_dates, iterator, chunksize, compression, thousands, decimal, lineterminator, quotechar, quoting, doublequote, escapechar, comment, encoding, dialect, error_bad_lines, warn_bad_lines, delim_whitespace, low_memory, memory_map, float_precision)\u001b[0m\n\u001b[0;32m    674\u001b[0m         )\n\u001b[0;32m    675\u001b[0m \u001b[1;33m\u001b[0m\u001b[0m\n\u001b[1;32m--> 676\u001b[1;33m         \u001b[1;32mreturn\u001b[0m \u001b[0m_read\u001b[0m\u001b[1;33m(\u001b[0m\u001b[0mfilepath_or_buffer\u001b[0m\u001b[1;33m,\u001b[0m \u001b[0mkwds\u001b[0m\u001b[1;33m)\u001b[0m\u001b[1;33m\u001b[0m\u001b[1;33m\u001b[0m\u001b[0m\n\u001b[0m\u001b[0;32m    677\u001b[0m \u001b[1;33m\u001b[0m\u001b[0m\n\u001b[0;32m    678\u001b[0m     \u001b[0mparser_f\u001b[0m\u001b[1;33m.\u001b[0m\u001b[0m__name__\u001b[0m \u001b[1;33m=\u001b[0m \u001b[0mname\u001b[0m\u001b[1;33m\u001b[0m\u001b[1;33m\u001b[0m\u001b[0m\n",
      "\u001b[1;32m~\\anaconda3\\lib\\site-packages\\pandas\\io\\parsers.py\u001b[0m in \u001b[0;36m_read\u001b[1;34m(filepath_or_buffer, kwds)\u001b[0m\n\u001b[0;32m    446\u001b[0m \u001b[1;33m\u001b[0m\u001b[0m\n\u001b[0;32m    447\u001b[0m     \u001b[1;31m# Create the parser.\u001b[0m\u001b[1;33m\u001b[0m\u001b[1;33m\u001b[0m\u001b[1;33m\u001b[0m\u001b[0m\n\u001b[1;32m--> 448\u001b[1;33m     \u001b[0mparser\u001b[0m \u001b[1;33m=\u001b[0m \u001b[0mTextFileReader\u001b[0m\u001b[1;33m(\u001b[0m\u001b[0mfp_or_buf\u001b[0m\u001b[1;33m,\u001b[0m \u001b[1;33m**\u001b[0m\u001b[0mkwds\u001b[0m\u001b[1;33m)\u001b[0m\u001b[1;33m\u001b[0m\u001b[1;33m\u001b[0m\u001b[0m\n\u001b[0m\u001b[0;32m    449\u001b[0m \u001b[1;33m\u001b[0m\u001b[0m\n\u001b[0;32m    450\u001b[0m     \u001b[1;32mif\u001b[0m \u001b[0mchunksize\u001b[0m \u001b[1;32mor\u001b[0m \u001b[0miterator\u001b[0m\u001b[1;33m:\u001b[0m\u001b[1;33m\u001b[0m\u001b[1;33m\u001b[0m\u001b[0m\n",
      "\u001b[1;32m~\\anaconda3\\lib\\site-packages\\pandas\\io\\parsers.py\u001b[0m in \u001b[0;36m__init__\u001b[1;34m(self, f, engine, **kwds)\u001b[0m\n\u001b[0;32m    878\u001b[0m             \u001b[0mself\u001b[0m\u001b[1;33m.\u001b[0m\u001b[0moptions\u001b[0m\u001b[1;33m[\u001b[0m\u001b[1;34m\"has_index_names\"\u001b[0m\u001b[1;33m]\u001b[0m \u001b[1;33m=\u001b[0m \u001b[0mkwds\u001b[0m\u001b[1;33m[\u001b[0m\u001b[1;34m\"has_index_names\"\u001b[0m\u001b[1;33m]\u001b[0m\u001b[1;33m\u001b[0m\u001b[1;33m\u001b[0m\u001b[0m\n\u001b[0;32m    879\u001b[0m \u001b[1;33m\u001b[0m\u001b[0m\n\u001b[1;32m--> 880\u001b[1;33m         \u001b[0mself\u001b[0m\u001b[1;33m.\u001b[0m\u001b[0m_make_engine\u001b[0m\u001b[1;33m(\u001b[0m\u001b[0mself\u001b[0m\u001b[1;33m.\u001b[0m\u001b[0mengine\u001b[0m\u001b[1;33m)\u001b[0m\u001b[1;33m\u001b[0m\u001b[1;33m\u001b[0m\u001b[0m\n\u001b[0m\u001b[0;32m    881\u001b[0m \u001b[1;33m\u001b[0m\u001b[0m\n\u001b[0;32m    882\u001b[0m     \u001b[1;32mdef\u001b[0m \u001b[0mclose\u001b[0m\u001b[1;33m(\u001b[0m\u001b[0mself\u001b[0m\u001b[1;33m)\u001b[0m\u001b[1;33m:\u001b[0m\u001b[1;33m\u001b[0m\u001b[1;33m\u001b[0m\u001b[0m\n",
      "\u001b[1;32m~\\anaconda3\\lib\\site-packages\\pandas\\io\\parsers.py\u001b[0m in \u001b[0;36m_make_engine\u001b[1;34m(self, engine)\u001b[0m\n\u001b[0;32m   1112\u001b[0m     \u001b[1;32mdef\u001b[0m \u001b[0m_make_engine\u001b[0m\u001b[1;33m(\u001b[0m\u001b[0mself\u001b[0m\u001b[1;33m,\u001b[0m \u001b[0mengine\u001b[0m\u001b[1;33m=\u001b[0m\u001b[1;34m\"c\"\u001b[0m\u001b[1;33m)\u001b[0m\u001b[1;33m:\u001b[0m\u001b[1;33m\u001b[0m\u001b[1;33m\u001b[0m\u001b[0m\n\u001b[0;32m   1113\u001b[0m         \u001b[1;32mif\u001b[0m \u001b[0mengine\u001b[0m \u001b[1;33m==\u001b[0m \u001b[1;34m\"c\"\u001b[0m\u001b[1;33m:\u001b[0m\u001b[1;33m\u001b[0m\u001b[1;33m\u001b[0m\u001b[0m\n\u001b[1;32m-> 1114\u001b[1;33m             \u001b[0mself\u001b[0m\u001b[1;33m.\u001b[0m\u001b[0m_engine\u001b[0m \u001b[1;33m=\u001b[0m \u001b[0mCParserWrapper\u001b[0m\u001b[1;33m(\u001b[0m\u001b[0mself\u001b[0m\u001b[1;33m.\u001b[0m\u001b[0mf\u001b[0m\u001b[1;33m,\u001b[0m \u001b[1;33m**\u001b[0m\u001b[0mself\u001b[0m\u001b[1;33m.\u001b[0m\u001b[0moptions\u001b[0m\u001b[1;33m)\u001b[0m\u001b[1;33m\u001b[0m\u001b[1;33m\u001b[0m\u001b[0m\n\u001b[0m\u001b[0;32m   1115\u001b[0m         \u001b[1;32melse\u001b[0m\u001b[1;33m:\u001b[0m\u001b[1;33m\u001b[0m\u001b[1;33m\u001b[0m\u001b[0m\n\u001b[0;32m   1116\u001b[0m             \u001b[1;32mif\u001b[0m \u001b[0mengine\u001b[0m \u001b[1;33m==\u001b[0m \u001b[1;34m\"python\"\u001b[0m\u001b[1;33m:\u001b[0m\u001b[1;33m\u001b[0m\u001b[1;33m\u001b[0m\u001b[0m\n",
      "\u001b[1;32m~\\anaconda3\\lib\\site-packages\\pandas\\io\\parsers.py\u001b[0m in \u001b[0;36m__init__\u001b[1;34m(self, src, **kwds)\u001b[0m\n\u001b[0;32m   1872\u001b[0m         \u001b[1;32mif\u001b[0m \u001b[0mkwds\u001b[0m\u001b[1;33m.\u001b[0m\u001b[0mget\u001b[0m\u001b[1;33m(\u001b[0m\u001b[1;34m\"compression\"\u001b[0m\u001b[1;33m)\u001b[0m \u001b[1;32mis\u001b[0m \u001b[1;32mNone\u001b[0m \u001b[1;32mand\u001b[0m \u001b[0mencoding\u001b[0m\u001b[1;33m:\u001b[0m\u001b[1;33m\u001b[0m\u001b[1;33m\u001b[0m\u001b[0m\n\u001b[0;32m   1873\u001b[0m             \u001b[1;32mif\u001b[0m \u001b[0misinstance\u001b[0m\u001b[1;33m(\u001b[0m\u001b[0msrc\u001b[0m\u001b[1;33m,\u001b[0m \u001b[0mstr\u001b[0m\u001b[1;33m)\u001b[0m\u001b[1;33m:\u001b[0m\u001b[1;33m\u001b[0m\u001b[1;33m\u001b[0m\u001b[0m\n\u001b[1;32m-> 1874\u001b[1;33m                 \u001b[0msrc\u001b[0m \u001b[1;33m=\u001b[0m \u001b[0mopen\u001b[0m\u001b[1;33m(\u001b[0m\u001b[0msrc\u001b[0m\u001b[1;33m,\u001b[0m \u001b[1;34m\"rb\"\u001b[0m\u001b[1;33m)\u001b[0m\u001b[1;33m\u001b[0m\u001b[1;33m\u001b[0m\u001b[0m\n\u001b[0m\u001b[0;32m   1875\u001b[0m                 \u001b[0mself\u001b[0m\u001b[1;33m.\u001b[0m\u001b[0mhandles\u001b[0m\u001b[1;33m.\u001b[0m\u001b[0mappend\u001b[0m\u001b[1;33m(\u001b[0m\u001b[0msrc\u001b[0m\u001b[1;33m)\u001b[0m\u001b[1;33m\u001b[0m\u001b[1;33m\u001b[0m\u001b[0m\n\u001b[0;32m   1876\u001b[0m \u001b[1;33m\u001b[0m\u001b[0m\n",
      "\u001b[1;31mFileNotFoundError\u001b[0m: [Errno 2] No such file or directory: 'f_h_1.csv'"
     ]
    }
   ],
   "source": [
    "import pandas as pd\n",
    "data=pd.read_csv(\"f_h_1.csv\",encoding='CP949')\n",
    "data.head"
   ]
  },
  {
   "cell_type": "code",
   "execution_count": null,
   "metadata": {},
   "outputs": [],
   "source": [
    "list(data['S_type'][6:12])\n",
    "temp=list(['기혼', '유아자녀', '초등학생자녀', '중고생자녀', '대학생자녀', '전업주부'])"
   ]
  },
  {
   "cell_type": "code",
   "execution_count": 3,
   "metadata": {},
   "outputs": [
    {
     "name": "stderr",
     "output_type": "stream",
     "text": [
      "C:\\Users\\yurik\\anaconda3\\lib\\site-packages\\pyecharts\\charts\\chart.py:14: PendingDeprecationWarning: pyecharts 所有图表类型将在 v1.9.0 版本开始强制使用 ChartItem 进行数据项配置 :)\n",
      "  super().__init__(init_opts=init_opts)\n"
     ]
    }
   ],
   "source": [
    "from pyecharts import options as opts\n",
    "from pyecharts.charts import Bar\n",
    "from pyecharts.globals import ThemeType\n",
    "\n",
    "c = (\n",
    "    Bar({\"theme\": ThemeType.WONDERLAND})#{\"theme\": ThemeType.MACARONS}\n",
    "    .add_xaxis(list(data['S_type'][0:6]))\n",
    "    .add_yaxis(\"A\", list(data['Score'][0:6]))\n",
    "    .add_yaxis(\"B\", list(data['Score'][6:12]))\n",
    "    #.add(\"2019\",list(data['S_type'][0:6]),list(data['Score'][0:6]),mark_line=[\"average\"],mark_point=[\"max\",\"min\"])\n",
    "    #.add(\"2019\",list(data['S_type'][0:6]),list(data['Score'][0:6]),mark_line=[\"average\"],mark_point=[\"max\",\"min\"])\n",
    "    .set_global_opts(title_opts=opts.TitleOpts(title=\"Bar-MarkPoint\"),\n",
    "                    datazoom_opts=opts.DataZoomOpts(type_=\"inside\"),)\n",
    "    .set_series_opts(\n",
    "        label_opts=opts.LabelOpts(is_show=True),#bar 위에 수치 표시\n",
    "        markpoint_opts=opts.MarkPointOpts(\n",
    "            data=[\n",
    "                opts.MarkPointItem(type_=\"max\", name=\"max\"),\n",
    "                opts.MarkPointItem(type_=\"min\", name=\"min\"),\n",
    "            ]\n",
    "        ),\n",
    "    )\n",
    "    .render(\"bar_markpoint_type.html\")\n",
    ")"
   ]
  },
  {
   "cell_type": "code",
   "execution_count": 50,
   "metadata": {},
   "outputs": [
    {
     "name": "stderr",
     "output_type": "stream",
     "text": [
      "C:\\Users\\yurik\\anaconda3\\lib\\site-packages\\pyecharts\\charts\\chart.py:14: PendingDeprecationWarning: pyecharts 所有图表类型将在 v1.9.0 版本开始强制使用 ChartItem 进行数据项配置 :)\n",
      "  super().__init__(init_opts=init_opts)\n"
     ]
    },
    {
     "data": {
      "text/plain": [
       "'C:\\\\Users\\\\yurik\\\\juptyer\\\\삼성\\\\pie_rosetype.html'"
      ]
     },
     "execution_count": 50,
     "metadata": {},
     "output_type": "execute_result"
    }
   ],
   "source": [
    "from pyecharts import options as opts\n",
    "from pyecharts.charts import Pie\n",
    "\n",
    "c = (\n",
    "    Pie({\"theme\": ThemeType.CHALK})\n",
    "    .add(\n",
    "        \"\",\n",
    "        [list(z) for z in zip(temp,list(data['Score'][0:6]))],\n",
    "        radius=[\"30%\", \"61%\"],\n",
    "        center=[\"28%\", \"50%\"],\n",
    "        rosetype=\"radius\",\n",
    "    )\n",
    "    .add(\n",
    "        \"\",\n",
    "        [list(z) for z in zip(temp,list(data['Score'][6:12]))],\n",
    "        radius=[\"30%\", \"61%\"],\n",
    "        center=[\"72%\", \"50%\"],\n",
    "        rosetype=\"area\",\n",
    "    )\n",
    "    .set_global_opts(title_opts=opts.TitleOpts(title=\"Pie-charts\"),\n",
    "                    legend_opts=opts.LegendOpts(type_=\"scroll\", pos_left=\"100%\", orient=\"vertical\"),)\n",
    "    #.set_colors([\"blue\", \"green\", \"yellow\", \"red\", \"pink\", \"orange\", \"purple\"])\n",
    "    .render(\"pie_rosetype.html\")\n",
    ")\n",
    "\n",
    "c"
   ]
  },
  {
   "cell_type": "code",
   "execution_count": 3,
   "metadata": {},
   "outputs": [
    {
     "data": {
      "text/plain": [
       "<bound method NDFrame.head of             YM Category  성별구분 연령대 기혼스코어 유아자녀스코어 초등학생자녀스코어 중고생자녀스코어 대학생자녀스코어  \\\n",
       "0       202005      할인점     0   F  high     low      high      mid      low   \n",
       "1       202005       취미     0   B  high     low       mid      mid      low   \n",
       "2       202005  오픈마켓/소셜     1   D   mid     mid       mid      mid      low   \n",
       "3       202005       뷰티     0   D   mid     mid       mid      mid      low   \n",
       "4       202005  오픈마켓/소셜     0   G  high     low       mid      mid      mid   \n",
       "...        ...      ...   ...  ..   ...     ...       ...      ...      ...   \n",
       "452033  201904      전문몰     0   E   low     mid       low      low      low   \n",
       "452034  201904      할인점     0   H  high     low       low      low      low   \n",
       "452035  201904      할인점     1   H  high     low       low      low      low   \n",
       "452036  201904      할인점     0   H  high     low       low      low      low   \n",
       "452037  201904      할인점     1   B  high     low       mid      mid      low   \n",
       "\n",
       "       전업주부스코어  \n",
       "0          low  \n",
       "1          low  \n",
       "2          mid  \n",
       "3          low  \n",
       "4          low  \n",
       "...        ...  \n",
       "452033     low  \n",
       "452034     low  \n",
       "452035     low  \n",
       "452036     low  \n",
       "452037     mid  \n",
       "\n",
       "[452038 rows x 10 columns]>"
      ]
     },
     "execution_count": 3,
     "metadata": {},
     "output_type": "execute_result"
    }
   ],
   "source": [
    "import pandas as pd\n",
    "data=pd.read_csv(\"data.csv\",encoding='CP949')\n",
    "data.head"
   ]
  },
  {
   "cell_type": "code",
   "execution_count": 7,
   "metadata": {},
   "outputs": [
    {
     "name": "stdout",
     "output_type": "stream",
     "text": [
      "YM      Category\n",
      "201904  전문몰         30911\n",
      "        할인점         26721\n",
      "        디저트         22918\n",
      "        오픈마켓/소셜     18766\n",
      "        뷰티           5734\n",
      "        취미           5469\n",
      "        종합몰          4189\n",
      "        호텔/숙박        2332\n",
      "        항공/여행사       2132\n",
      "        면세점           947\n",
      "201905  전문몰         31655\n",
      "        할인점         25216\n",
      "        디저트         23820\n",
      "        오픈마켓/소셜     19343\n",
      "        뷰티           6130\n",
      "        취미           5507\n",
      "        종합몰          4175\n",
      "        호텔/숙박        2514\n",
      "        항공/여행사       2165\n",
      "        면세점           926\n",
      "202004  전문몰         31139\n",
      "        오픈마켓/소셜     20909\n",
      "        디저트         20259\n",
      "        할인점         15756\n",
      "        종합몰          4073\n",
      "        뷰티           3978\n",
      "        취미           3341\n",
      "        호텔/숙박        1274\n",
      "        항공/여행사        589\n",
      "        면세점            56\n",
      "202005  전문몰         32357\n",
      "        디저트         22746\n",
      "        오픈마켓/소셜     21724\n",
      "        할인점         16943\n",
      "        뷰티           4611\n",
      "        취미           4132\n",
      "        종합몰          3682\n",
      "        호텔/숙박        1885\n",
      "        항공/여행사        875\n",
      "        면세점           139\n",
      "Name: Category, dtype: int64\n"
     ]
    }
   ],
   "source": [
    "print(data.groupby('YM')['Category'].value_counts())"
   ]
  },
  {
   "cell_type": "code",
   "execution_count": 8,
   "metadata": {},
   "outputs": [
    {
     "name": "stdout",
     "output_type": "stream",
     "text": [
      "전문몰        126062\n",
      "디저트         89743\n",
      "할인점         84636\n",
      "오픈마켓/소셜     80742\n",
      "뷰티          20453\n",
      "취미          18449\n",
      "종합몰         16119\n",
      "호텔/숙박        8005\n",
      "항공/여행사       5761\n",
      "면세점          2068\n",
      "Name: Category, dtype: int64\n"
     ]
    }
   ],
   "source": [
    "print(data['Category'].value_counts())"
   ]
  },
  {
   "cell_type": "code",
   "execution_count": 9,
   "metadata": {},
   "outputs": [
    {
     "name": "stdout",
     "output_type": "stream",
     "text": [
      "1    240336\n",
      "0    211702\n",
      "Name: 성별구분, dtype: int64\n"
     ]
    }
   ],
   "source": [
    "print(data['성별구분'].value_counts())"
   ]
  },
  {
   "cell_type": "code",
   "execution_count": 10,
   "metadata": {},
   "outputs": [
    {
     "name": "stdout",
     "output_type": "stream",
     "text": [
      "D    76172\n",
      "A    71640\n",
      "F    70151\n",
      "C    56270\n",
      "E    54574\n",
      "G    51095\n",
      "H    37111\n",
      "B    35025\n",
      "Name: 연령대, dtype: int64\n"
     ]
    }
   ],
   "source": [
    "print(data['연령대'].value_counts())"
   ]
  },
  {
   "cell_type": "code",
   "execution_count": 11,
   "metadata": {},
   "outputs": [
    {
     "name": "stdout",
     "output_type": "stream",
     "text": [
      "201905    121451\n",
      "201904    120119\n",
      "202005    109094\n",
      "202004    101374\n",
      "Name: YM, dtype: int64\n"
     ]
    }
   ],
   "source": [
    "print(data['YM'].value_counts())"
   ]
  },
  {
   "cell_type": "code",
   "execution_count": 2,
   "metadata": {},
   "outputs": [
    {
     "data": {
      "text/plain": [
       "<bound method NDFrame.head of     Year     S_type  Score\n",
       "0   2019      기혼스코어   7326\n",
       "1   2019    유아자녀스코어   3140\n",
       "2   2019  초등학생자녀스코어   5468\n",
       "3   2019   중고생자녀스코어   5264\n",
       "4   2019   대학생자녀스코어   3692\n",
       "5   2019    전업주부스코어   4993\n",
       "6   2020      기혼스코어   8130\n",
       "7   2020    유아자녀스코어   3461\n",
       "8   2020  초등학생자녀스코어   4962\n",
       "9   2020   중고생자녀스코어   5814\n",
       "10  2020   대학생자녀스코어   4149\n",
       "11  2020    전업주부스코어   5516>"
      ]
     },
     "execution_count": 2,
     "metadata": {},
     "output_type": "execute_result"
    }
   ],
   "source": [
    "import pandas as pd\n",
    "data=pd.read_csv(\"f_j_1.csv\",encoding='CP949')\n",
    "data.head"
   ]
  },
  {
   "cell_type": "code",
   "execution_count": 25,
   "metadata": {},
   "outputs": [
    {
     "name": "stderr",
     "output_type": "stream",
     "text": [
      "C:\\Users\\yurik\\anaconda3\\lib\\site-packages\\pyecharts\\charts\\chart.py:14: PendingDeprecationWarning: pyecharts 所有图表类型将在 v1.9.0 版本开始强制使用 ChartItem 进行数据项配置 :)\n",
      "  super().__init__(init_opts=init_opts)\n"
     ]
    }
   ],
   "source": [
    "from pyecharts import options as opts\n",
    "from pyecharts.charts import Bar\n",
    "from pyecharts.globals import ThemeType\n",
    "\n",
    "c = (\n",
    "    Bar({\"theme\": ThemeType.MACARONS})#{\"theme\": ThemeType.MACARONS}\n",
    "    .add_xaxis(list(data['S_type'][0:6]))#초중고스코어\n",
    "    .add_yaxis(\"2019\", list(data['Score'][0:6]))#19년도\n",
    "    .add_yaxis(\"2020\", list(data['Score'][6:12]))#20년도\n",
    "    .set_global_opts(title_opts=opts.TitleOpts(title=\"Bar-MarkPoint\"),\n",
    "                    datazoom_opts=[opts.DataZoomOpts(), opts.DataZoomOpts(type_=\"inside\")],)\n",
    "    .set_series_opts(\n",
    "        label_opts=opts.LabelOpts(is_show=True),#bar 위에 수치 표시\n",
    "        markpoint_opts=opts.MarkPointOpts(\n",
    "            data=[\n",
    "                opts.MarkPointItem(type_=\"max\", name=\"max\"),\n",
    "                opts.MarkPointItem(type_=\"min\", name=\"min\"),\n",
    "            ]\n",
    "        ),\n",
    "    )\n",
    "    .render(\"temp.html\")\n",
    ")"
   ]
  },
  {
   "cell_type": "code",
   "execution_count": null,
   "metadata": {},
   "outputs": [],
   "source": [
    "from pyecharts import options as opts\n",
    "from pyecharts.charts import Bar\n",
    "from pyecharts.globals import ThemeType\n",
    "\n",
    "c = (\n",
    "    Bar({\"theme\": ThemeType.CHALK})#{\"theme\": ThemeType.MACARONS}\n",
    "    .add_xaxis(list(data['S_type'][0:6]))#초중고스코어\n",
    "    .add_yaxis(\"2019\", list(data['Score'][0:6]))#19년도\n",
    "    .add_yaxis(\"2020\", list(data['Score'][6:12]))#20년도\n",
    "    .set_global_opts(title_opts=opts.TitleOpts(title=\"Bar-MarkPoint\"),\n",
    "                    datazoom_opts=[opts.DataZoomOpts(), opts.DataZoomOpts(type_=\"inside\")],)\n",
    "    .set_series_opts(\n",
    "        label_opts=opts.LabelOpts(is_show=True),#bar 위에 수치 표시\n",
    "        markpoint_opts=opts.MarkPointOpts(\n",
    "            data=[\n",
    "                opts.MarkPointItem(type_=\"max\", name=\"max\"),\n",
    "                opts.MarkPointItem(type_=\"min\", name=\"min\"),\n",
    "            ]\n",
    "        ),\n",
    "    )\n",
    "    .render(\"temp.html\")\n",
    ")"
   ]
  },
  {
   "cell_type": "code",
   "execution_count": 8,
   "metadata": {},
   "outputs": [],
   "source": [
    "import pandas as pd\n",
    "from pyecharts import options as opts\n",
    "from pyecharts.charts import Bar\n",
    "from pyecharts.globals import ThemeType"
   ]
  },
  {
   "cell_type": "code",
   "execution_count": 11,
   "metadata": {},
   "outputs": [],
   "source": [
    "data19=pd.read_csv(\"data19_only.csv\",encoding='CP949')"
   ]
  },
  {
   "cell_type": "code",
   "execution_count": 12,
   "metadata": {},
   "outputs": [
    {
     "data": {
      "text/html": [
       "<div>\n",
       "<style scoped>\n",
       "    .dataframe tbody tr th:only-of-type {\n",
       "        vertical-align: middle;\n",
       "    }\n",
       "\n",
       "    .dataframe tbody tr th {\n",
       "        vertical-align: top;\n",
       "    }\n",
       "\n",
       "    .dataframe thead th {\n",
       "        text-align: right;\n",
       "    }\n",
       "</style>\n",
       "<table border=\"1\" class=\"dataframe\">\n",
       "  <thead>\n",
       "    <tr style=\"text-align: right;\">\n",
       "      <th></th>\n",
       "      <th>YM</th>\n",
       "      <th>Category</th>\n",
       "      <th>성별구분</th>\n",
       "      <th>연령대</th>\n",
       "      <th>전업주부스코어</th>\n",
       "    </tr>\n",
       "  </thead>\n",
       "  <tbody>\n",
       "    <tr>\n",
       "      <th>0</th>\n",
       "      <td>201905</td>\n",
       "      <td>할인점</td>\n",
       "      <td>1</td>\n",
       "      <td>F</td>\n",
       "      <td>2</td>\n",
       "    </tr>\n",
       "    <tr>\n",
       "      <th>1</th>\n",
       "      <td>201905</td>\n",
       "      <td>할인점</td>\n",
       "      <td>1</td>\n",
       "      <td>G</td>\n",
       "      <td>2</td>\n",
       "    </tr>\n",
       "    <tr>\n",
       "      <th>2</th>\n",
       "      <td>201905</td>\n",
       "      <td>할인점</td>\n",
       "      <td>0</td>\n",
       "      <td>C</td>\n",
       "      <td>1</td>\n",
       "    </tr>\n",
       "    <tr>\n",
       "      <th>3</th>\n",
       "      <td>201905</td>\n",
       "      <td>할인점</td>\n",
       "      <td>1</td>\n",
       "      <td>D</td>\n",
       "      <td>2</td>\n",
       "    </tr>\n",
       "    <tr>\n",
       "      <th>4</th>\n",
       "      <td>201905</td>\n",
       "      <td>할인점</td>\n",
       "      <td>1</td>\n",
       "      <td>F</td>\n",
       "      <td>3</td>\n",
       "    </tr>\n",
       "  </tbody>\n",
       "</table>\n",
       "</div>"
      ],
      "text/plain": [
       "       YM Category  성별구분 연령대  전업주부스코어\n",
       "0  201905      할인점     1   F        2\n",
       "1  201905      할인점     1   G        2\n",
       "2  201905      할인점     0   C        1\n",
       "3  201905      할인점     1   D        2\n",
       "4  201905      할인점     1   F        3"
      ]
     },
     "execution_count": 12,
     "metadata": {},
     "output_type": "execute_result"
    }
   ],
   "source": [
    "data19=data19.drop(columns=[\"기혼스코어\",\"유아자녀스코어\",\"초등학생자녀스코어\",\"중고생자녀스코어\",\"대학생자녀스코어\"])\n",
    "data19.head()"
   ]
  },
  {
   "cell_type": "code",
   "execution_count": 21,
   "metadata": {},
   "outputs": [
    {
     "data": {
      "text/plain": [
       "Category  성별구분  연령대\n",
       "종합몰       0     A       552\n",
       "                B        90\n",
       "                C       395\n",
       "                D       663\n",
       "                E       215\n",
       "                F       398\n",
       "                G       184\n",
       "                H       114\n",
       "          1     A      2258\n",
       "                B       450\n",
       "                C      2037\n",
       "                D      2924\n",
       "                E      1539\n",
       "                F      1502\n",
       "                G       783\n",
       "                H       289\n",
       "할인점       0     A      3940\n",
       "                B      2438\n",
       "                C      2298\n",
       "                D      3901\n",
       "                E      1468\n",
       "                F      4058\n",
       "                G      2970\n",
       "                H      3475\n",
       "          1     A      8530\n",
       "                B      6120\n",
       "                C      5426\n",
       "                D      8794\n",
       "                E      4043\n",
       "                F      8890\n",
       "                G      7309\n",
       "                H      7915\n",
       "Name: 전업주부스코어, dtype: int64"
      ]
     },
     "execution_count": 21,
     "metadata": {},
     "output_type": "execute_result"
    }
   ],
   "source": [
    "data19.groupby(['Category','성별구분','연령대'])['전업주부스코어'].sum()"
   ]
  },
  {
   "cell_type": "code",
   "execution_count": 22,
   "metadata": {},
   "outputs": [],
   "source": [
    "data20=pd.read_csv(\"data20_only.csv\",encoding='CP949')"
   ]
  },
  {
   "cell_type": "code",
   "execution_count": 23,
   "metadata": {},
   "outputs": [
    {
     "data": {
      "text/html": [
       "<div>\n",
       "<style scoped>\n",
       "    .dataframe tbody tr th:only-of-type {\n",
       "        vertical-align: middle;\n",
       "    }\n",
       "\n",
       "    .dataframe tbody tr th {\n",
       "        vertical-align: top;\n",
       "    }\n",
       "\n",
       "    .dataframe thead th {\n",
       "        text-align: right;\n",
       "    }\n",
       "</style>\n",
       "<table border=\"1\" class=\"dataframe\">\n",
       "  <thead>\n",
       "    <tr style=\"text-align: right;\">\n",
       "      <th></th>\n",
       "      <th>YM</th>\n",
       "      <th>Category</th>\n",
       "      <th>성별구분</th>\n",
       "      <th>연령대</th>\n",
       "      <th>전업주부스코어</th>\n",
       "    </tr>\n",
       "  </thead>\n",
       "  <tbody>\n",
       "    <tr>\n",
       "      <th>0</th>\n",
       "      <td>202005</td>\n",
       "      <td>할인점</td>\n",
       "      <td>0</td>\n",
       "      <td>F</td>\n",
       "      <td>1</td>\n",
       "    </tr>\n",
       "    <tr>\n",
       "      <th>1</th>\n",
       "      <td>202005</td>\n",
       "      <td>할인점</td>\n",
       "      <td>1</td>\n",
       "      <td>B</td>\n",
       "      <td>2</td>\n",
       "    </tr>\n",
       "    <tr>\n",
       "      <th>2</th>\n",
       "      <td>202005</td>\n",
       "      <td>할인점</td>\n",
       "      <td>0</td>\n",
       "      <td>F</td>\n",
       "      <td>1</td>\n",
       "    </tr>\n",
       "    <tr>\n",
       "      <th>3</th>\n",
       "      <td>202005</td>\n",
       "      <td>할인점</td>\n",
       "      <td>0</td>\n",
       "      <td>F</td>\n",
       "      <td>1</td>\n",
       "    </tr>\n",
       "    <tr>\n",
       "      <th>4</th>\n",
       "      <td>202005</td>\n",
       "      <td>할인점</td>\n",
       "      <td>1</td>\n",
       "      <td>A</td>\n",
       "      <td>2</td>\n",
       "    </tr>\n",
       "  </tbody>\n",
       "</table>\n",
       "</div>"
      ],
      "text/plain": [
       "       YM Category  성별구분 연령대  전업주부스코어\n",
       "0  202005      할인점     0   F        1\n",
       "1  202005      할인점     1   B        2\n",
       "2  202005      할인점     0   F        1\n",
       "3  202005      할인점     0   F        1\n",
       "4  202005      할인점     1   A        2"
      ]
     },
     "execution_count": 23,
     "metadata": {},
     "output_type": "execute_result"
    }
   ],
   "source": [
    "data20=data20.drop(columns=[\"기혼스코어\",\"유아자녀스코어\",\"초등학생자녀스코어\",\"중고생자녀스코어\",\"대학생자녀스코어\"])\n",
    "data20.head()"
   ]
  },
  {
   "cell_type": "code",
   "execution_count": 24,
   "metadata": {},
   "outputs": [
    {
     "data": {
      "text/plain": [
       "Category  성별구분  연령대\n",
       "종합몰       0     A       571\n",
       "                B       107\n",
       "                C       264\n",
       "                D       526\n",
       "                E       121\n",
       "                F       419\n",
       "                G       228\n",
       "                H       113\n",
       "          1     A      2372\n",
       "                B       482\n",
       "                C      1661\n",
       "                D      2646\n",
       "                E       863\n",
       "                F      1749\n",
       "                G       913\n",
       "                H       357\n",
       "할인점       0     A      2526\n",
       "                B      1561\n",
       "                C      1413\n",
       "                D      2302\n",
       "                E       948\n",
       "                F      2678\n",
       "                G      2080\n",
       "                H      2294\n",
       "          1     A      5117\n",
       "                B      3613\n",
       "                C      3402\n",
       "                D      4727\n",
       "                E      2426\n",
       "                F      5481\n",
       "                G      4639\n",
       "                H      5260\n",
       "Name: 전업주부스코어, dtype: int64"
      ]
     },
     "execution_count": 24,
     "metadata": {},
     "output_type": "execute_result"
    }
   ],
   "source": [
    "data20.groupby(['Category','성별구분','연령대'])['전업주부스코어'].sum()"
   ]
  },
  {
   "cell_type": "code",
   "execution_count": 3,
   "metadata": {},
   "outputs": [],
   "source": [
    "#abfg: 1, cd: 2, eh: 3\n",
    "j_19=dict()\n",
    "j_20=dict()\n",
    "h_19=dict()\n",
    "h_20=dict()"
   ]
  },
  {
   "cell_type": "code",
   "execution_count": 4,
   "metadata": {},
   "outputs": [],
   "source": [
    "j_19[\"m1\"]=1224\n",
    "j_19[\"m2\"]=1058\n",
    "j_19[\"m3\"]=329\n",
    "j_19[\"f1\"]=4993\n",
    "j_19[\"f2\"]=4961\n",
    "j_19[\"f3\"]=1828"
   ]
  },
  {
   "cell_type": "code",
   "execution_count": 5,
   "metadata": {},
   "outputs": [],
   "source": [
    "j_20[\"m1\"]=1325\n",
    "j_20[\"m2\"]=790\n",
    "j_20[\"m3\"]=234\n",
    "j_20[\"f1\"]=5516\n",
    "j_20[\"f2\"]=4307\n",
    "j_20[\"f3\"]=1220"
   ]
  },
  {
   "cell_type": "code",
   "execution_count": 6,
   "metadata": {},
   "outputs": [],
   "source": [
    "h_19[\"m1\"]=13406\n",
    "h_19[\"m2\"]=6199\n",
    "h_19[\"m3\"]=4943\n",
    "h_19[\"f1\"]=30849\n",
    "h_19[\"f2\"]=14220\n",
    "h_19[\"f3\"]=11958"
   ]
  },
  {
   "cell_type": "code",
   "execution_count": 7,
   "metadata": {},
   "outputs": [],
   "source": [
    "h_20[\"m1\"]=8845\n",
    "h_20[\"m2\"]=3715\n",
    "h_20[\"m3\"]=3242\n",
    "h_20[\"f1\"]=18850 #할인점은 여자가 2019년에 비해 2020년 급격히 줄었다\n",
    "h_20[\"f2\"]=8129\n",
    "h_20[\"f3\"]=7686"
   ]
  },
  {
   "cell_type": "code",
   "execution_count": 8,
   "metadata": {},
   "outputs": [],
   "source": [
    "name_temp=[\"1st Male\",\"2nd Male\",\"3rd Male\",\"1st Female\",\"2nd Female\",\"3rd Female\"]\n",
    "new_temp=[\"1st Female\",\"2nd Female\",\"3rd Female\",\"1st Male\",\"2nd Male\",\"3rd Male\"]"
   ]
  },
  {
   "cell_type": "code",
   "execution_count": 137,
   "metadata": {},
   "outputs": [
    {
     "data": {
      "text/plain": [
       "'\\n표를 이렇게 만들어도 되는가?\\n단순히 수치로?\\n비율로 따져야하나?\\n\\n전업주부 말고도 전체적인 스코어를 보고\\n총점이 같아야지만 수치로 해야 의미가 있다\\n\\n그리고 내가 제대로 잘 만들었는지 체크해야 한다\\n\\n비율로 표시하는 게 더 좋을 것 같다\\n'"
      ]
     },
     "execution_count": 137,
     "metadata": {},
     "output_type": "execute_result"
    }
   ],
   "source": [
    "\"\"\"\n",
    "표를 이렇게 만들어도 되는가?\n",
    "단순히 수치로?\n",
    "비율로 따져야하나?\n",
    "\n",
    "전업주부 말고도 전체적인 스코어를 보고\n",
    "총점이 같아야지만 수치로 해야 의미가 있다\n",
    "\n",
    "그리고 내가 제대로 잘 만들었는지 체크해야 한다\n",
    "\n",
    "비율로 표시하는 게 더 좋을 것 같다\n",
    "\"\"\""
   ]
  },
  {
   "cell_type": "code",
   "execution_count": 9,
   "metadata": {},
   "outputs": [
    {
     "name": "stderr",
     "output_type": "stream",
     "text": [
      "C:\\Users\\yurik\\anaconda3\\lib\\site-packages\\pyecharts\\charts\\chart.py:14: PendingDeprecationWarning: pyecharts 所有图表类型将在 v1.9.0 版本开始强制使用 ChartItem 进行数据项配置 :)\n",
      "  super().__init__(init_opts=init_opts)\n"
     ]
    },
    {
     "data": {
      "text/plain": [
       "'C:\\\\Users\\\\yurik\\\\juptyer\\\\삼성\\\\jonghapmol.html'"
      ]
     },
     "execution_count": 9,
     "metadata": {},
     "output_type": "execute_result"
    }
   ],
   "source": [
    "from pyecharts import options as opts\n",
    "from pyecharts.charts import Pie\n",
    "from pyecharts.globals import ThemeType\n",
    "\n",
    "c = (\n",
    "    Pie(opts.InitOpts(width = '1200px',height = '650px',theme=ThemeType.INFOGRAPHIC))\n",
    "    .add(\n",
    "        \"2019\",\n",
    "        [list(z) for z in zip(name_temp,list(j_19.values()))],\n",
    "        radius=[\"27%\", \"61%\"],\n",
    "        center=[\"27%\", \"50%\"],\n",
    "        rosetype=\"radius\",\n",
    "    )\n",
    "    .add(\n",
    "        \"2020\",\n",
    "        [list(z) for z in zip(name_temp,list(j_20.values()))],\n",
    "        radius=[\"30%\", \"61%\"],\n",
    "        center=[\"73%\", \"50%\"],\n",
    "        rosetype=\"radius\",\n",
    "    )\n",
    "    .set_global_opts(title_opts=opts.TitleOpts(title=\"종합몰 전업주부스코어\"),\n",
    "                    legend_opts=opts.LegendOpts(type_=\"scroll\", pos_left=\"45%\"),)\n",
    "    .set_series_opts(label_opts=opts.LabelOpts(formatter=\"{b}: {c}\"))\n",
    "    #.set_colors([\"blue\", \"green\", \"yellow\", \"red\", \"pink\", \"orange\", \"purple\"])\n",
    "    .render(\"jonghapmol.html\")\n",
    ")\n",
    "\n",
    "c"
   ]
  },
  {
   "cell_type": "code",
   "execution_count": 10,
   "metadata": {},
   "outputs": [
    {
     "data": {
      "text/plain": [
       "[1224, 1058, 329, 4993, 4961, 1828]"
      ]
     },
     "execution_count": 10,
     "metadata": {},
     "output_type": "execute_result"
    }
   ],
   "source": [
    "list(j_19.values())"
   ]
  },
  {
   "cell_type": "code",
   "execution_count": 11,
   "metadata": {},
   "outputs": [
    {
     "name": "stderr",
     "output_type": "stream",
     "text": [
      "C:\\Users\\yurik\\anaconda3\\lib\\site-packages\\pyecharts\\charts\\chart.py:14: PendingDeprecationWarning: pyecharts 所有图表类型将在 v1.9.0 版本开始强制使用 ChartItem 进行数据项配置 :)\n",
      "  super().__init__(init_opts=init_opts)\n"
     ]
    },
    {
     "data": {
      "text/plain": [
       "'C:\\\\Users\\\\yurik\\\\juptyer\\\\삼성\\\\halinmol.html'"
      ]
     },
     "execution_count": 11,
     "metadata": {},
     "output_type": "execute_result"
    }
   ],
   "source": [
    "from pyecharts import options as opts\n",
    "from pyecharts.charts import Pie\n",
    "\n",
    "c = (\n",
    "    Pie(opts.InitOpts(width = '1200px',height = '650px',theme=ThemeType.LIGHT))\n",
    "    .add(\n",
    "        \"2019\",\n",
    "        [list(z) for z in zip(name_temp,list(h_19.values()))],\n",
    "        radius=[\"30%\", \"61%\"],\n",
    "        center=[\"28%\", \"50%\"],\n",
    "        rosetype=\"radius\",\n",
    "    )\n",
    "    .add(\n",
    "        \"2020\",\n",
    "        [list(z) for z in zip(name_temp,list(h_20.values()))],\n",
    "        radius=[\"30%\", \"61%\"],\n",
    "        center=[\"75%\", \"52%\"],\n",
    "        rosetype=\"radius\",\n",
    "    )\n",
    "    .set_global_opts(title_opts=opts.TitleOpts(title=\"할인점 전업주부스코어\"),\n",
    "                    legend_opts=opts.LegendOpts(type_=\"scroll\", pos_left=\"45%\")\n",
    "                    )\n",
    "    .set_series_opts(label_opts=opts.LabelOpts(formatter=\"{b}: {c}\"))\n",
    "    #.set_colors([\"blue\", \"green\", \"yellow\", \"red\", \"pink\", \"orange\", \"purple\"])\n",
    "    .render(\"halinmol.html\")\n",
    ")\n",
    "\n",
    "c"
   ]
  },
  {
   "cell_type": "code",
   "execution_count": 1,
   "metadata": {},
   "outputs": [],
   "source": [
    "import pandas as pd\n",
    "data19=pd.read_csv(\"data_2019.csv\",encoding='CP949')\n",
    "data20=pd.read_csv(\"data_2020.csv\",encoding='CP949')"
   ]
  },
  {
   "cell_type": "code",
   "execution_count": 8,
   "metadata": {},
   "outputs": [
    {
     "name": "stdout",
     "output_type": "stream",
     "text": [
      "Category  성별구분\n",
      "디저트       1       25016\n",
      "          0       21722\n",
      "면세점       0        1008\n",
      "          1         865\n",
      "뷰티        1        7974\n",
      "          0        3890\n",
      "오픈마켓/소셜   1       21244\n",
      "          0       16865\n",
      "전문몰       1       32725\n",
      "          0       29841\n",
      "종합몰       1        5753\n",
      "          0        2611\n",
      "취미        0        6753\n",
      "          1        4223\n",
      "할인점       1       27389\n",
      "          0       24548\n",
      "항공/여행사    0        2293\n",
      "          1        2004\n",
      "호텔/숙박     0        3252\n",
      "          1        1594\n",
      "Name: 성별구분, dtype: int64\n"
     ]
    }
   ],
   "source": [
    "print(data19.groupby('Category')['성별구분'].value_counts())"
   ]
  },
  {
   "cell_type": "code",
   "execution_count": 12,
   "metadata": {},
   "outputs": [
    {
     "name": "stdout",
     "output_type": "stream",
     "text": [
      "Category  성별구분\n",
      "디저트       1       22411\n",
      "          0       20594\n",
      "면세점       1         108\n",
      "          0          87\n",
      "뷰티        1        5521\n",
      "          0        3068\n",
      "오픈마켓/소셜   1       24018\n",
      "          0       18615\n",
      "전문몰       1       33006\n",
      "          0       30490\n",
      "종합몰       1        5406\n",
      "          0        2349\n",
      "취미        0        4853\n",
      "          1        2620\n",
      "할인점       1       16897\n",
      "          0       15802\n",
      "항공/여행사    0         872\n",
      "          1         592\n",
      "호텔/숙박     0        2189\n",
      "          1         970\n",
      "Name: 성별구분, dtype: int64\n"
     ]
    }
   ],
   "source": [
    "print(data20.groupby('Category')['성별구분'].value_counts())"
   ]
  },
  {
   "cell_type": "code",
   "execution_count": 49,
   "metadata": {},
   "outputs": [
    {
     "data": {
      "text/plain": [
       "디저트         89743\n",
       "면세점          2068\n",
       "뷰티          20453\n",
       "오픈마켓/소셜     80742\n",
       "전문몰        126062\n",
       "종합몰         16119\n",
       "취미          18449\n",
       "할인점         84636\n",
       "항공/여행사       5761\n",
       "호텔/숙박        8005\n",
       "Name: Category, dtype: int64"
      ]
     },
     "execution_count": 49,
     "metadata": {},
     "output_type": "execute_result"
    }
   ],
   "source": [
    "data20['Category'].value_counts()+data19['Category'].value_counts()"
   ]
  },
  {
   "cell_type": "code",
   "execution_count": 37,
   "metadata": {},
   "outputs": [],
   "source": [
    "count=(data20['Category'].value_counts()+data19['Category'].value_counts()).values"
   ]
  },
  {
   "cell_type": "code",
   "execution_count": 44,
   "metadata": {},
   "outputs": [],
   "source": [
    "mf=(data19.groupby('Category')['성별구분'].value_counts()+data20.groupby('Category')['성별구분'].value_counts()).values"
   ]
  },
  {
   "cell_type": "code",
   "execution_count": 67,
   "metadata": {},
   "outputs": [],
   "source": [
    "ratio=[]\n",
    "index=0\n",
    "for i in range(0,len(mf),2):\n",
    "    ratio.append(mf[i]/count[index])\n",
    "    index=index+1"
   ]
  },
  {
   "cell_type": "code",
   "execution_count": 68,
   "metadata": {},
   "outputs": [
    {
     "data": {
      "text/plain": [
       "[0.4715242414450152,\n",
       " 0.5294970986460348,\n",
       " 0.34019459248032075,\n",
       " 0.4394243392534245,\n",
       " 0.47858196760324284,\n",
       " 0.3077113964886159,\n",
       " 0.6290855872947043,\n",
       " 0.4767474833404225,\n",
       " 0.549383787536886,\n",
       " 0.6797001873828857]"
      ]
     },
     "execution_count": 68,
     "metadata": {},
     "output_type": "execute_result"
    }
   ],
   "source": [
    "ratio"
   ]
  },
  {
   "cell_type": "code",
   "execution_count": 70,
   "metadata": {},
   "outputs": [
    {
     "data": {
      "text/plain": [
       "1    240336\n",
       "0    211702\n",
       "Name: 성별구분, dtype: int64"
      ]
     },
     "execution_count": 70,
     "metadata": {},
     "output_type": "execute_result"
    }
   ],
   "source": [
    "data19['성별구분'].value_counts()+data20['성별구분'].value_counts()"
   ]
  },
  {
   "cell_type": "code",
   "execution_count": 84,
   "metadata": {},
   "outputs": [
    {
     "name": "stderr",
     "output_type": "stream",
     "text": [
      "C:\\Users\\yurik\\anaconda3\\lib\\site-packages\\pyecharts\\charts\\chart.py:14: PendingDeprecationWarning: pyecharts 所有图表类型将在 v1.9.0 版本开始强制使用 ChartItem 进行数据项配置 :)\n",
      "  super().__init__(init_opts=init_opts)\n"
     ]
    },
    {
     "data": {
      "text/plain": [
       "'C:\\\\Users\\\\yurik\\\\juptyer\\\\삼성\\\\liquid_shape_diamond.html'"
      ]
     },
     "execution_count": 84,
     "metadata": {},
     "output_type": "execute_result"
    }
   ],
   "source": [
    "from pyecharts import options as opts\n",
    "from pyecharts.charts import Liquid\n",
    "from pyecharts.globals import SymbolType\n",
    "from pyecharts.globals import ThemeType\n",
    "\n",
    "\n",
    "c = (\n",
    "    Liquid(opts.InitOpts(theme=ThemeType.MACARONS))\n",
    "    .add(\"lq\", [0.5316721160610391,0.4683278839389609], is_outline_show=False, shape=SymbolType.DIAMOND)\n",
    "    .set_global_opts(title_opts=opts.TitleOpts(title=\"Liquid-Shape-Diamond\"))\n",
    "    .set_colors([\"blue\", \"green\", \"yellow\", \"red\", \"pink\", \"orange\", \"purple\"])\n",
    "    .render(\"liquid_shape_diamond.html\")\n",
    ")\n",
    "c"
   ]
  },
  {
   "cell_type": "code",
   "execution_count": 76,
   "metadata": {},
   "outputs": [
    {
     "data": {
      "text/plain": [
       "0.4683278839389609"
      ]
     },
     "execution_count": 76,
     "metadata": {},
     "output_type": "execute_result"
    }
   ],
   "source": [
    "211702/(240336+211702)"
   ]
  },
  {
   "cell_type": "code",
   "execution_count": 86,
   "metadata": {},
   "outputs": [
    {
     "data": {
      "text/plain": [
       "A    71640\n",
       "B    35025\n",
       "C    56270\n",
       "D    76172\n",
       "E    54574\n",
       "F    70151\n",
       "G    51095\n",
       "H    37111\n",
       "Name: 연령대, dtype: int64"
      ]
     },
     "execution_count": 86,
     "metadata": {},
     "output_type": "execute_result"
    }
   ],
   "source": [
    "data20['연령대'].value_counts()+data19['연령대'].value_counts()"
   ]
  },
  {
   "cell_type": "code",
   "execution_count": 29,
   "metadata": {},
   "outputs": [
    {
     "data": {
      "text/plain": [
       "성별구분  연령대\n",
       "0     A      34711\n",
       "      B      16654\n",
       "      C      25696\n",
       "      D      36551\n",
       "      E      21914\n",
       "      F      33691\n",
       "      G      24137\n",
       "      H      18348\n",
       "1     A      36929\n",
       "      B      18371\n",
       "      C      30574\n",
       "      D      39621\n",
       "      E      32660\n",
       "      F      36460\n",
       "      G      26958\n",
       "      H      18763\n",
       "Name: 연령대, dtype: int64"
      ]
     },
     "execution_count": 29,
     "metadata": {},
     "output_type": "execute_result"
    }
   ],
   "source": [
    "data20.groupby('성별구분')['연령대'].value_counts()+data19.groupby('성별구분')['연령대'].value_counts()"
   ]
  },
  {
   "cell_type": "code",
   "execution_count": 32,
   "metadata": {},
   "outputs": [],
   "source": [
    "ind=['A','B','C','D','E','F','G','H']\n",
    "data=dict()\n",
    "for index in ind:\n",
    "    temp=(data20.groupby('성별구분')['연령대'].value_counts()+data19.groupby('성별구분')['연령대'].value_counts())\n",
    "    men_ratio=temp[0,index]/(temp[0,index]+temp[1,index])\n",
    "    data[index]=men_ratio"
   ]
  },
  {
   "cell_type": "code",
   "execution_count": 34,
   "metadata": {},
   "outputs": [
    {
     "data": {
      "text/plain": [
       "{'A': 0.48451982132886656,\n",
       " 'B': 0.4754889364739472,\n",
       " 'C': 0.4566554114092767,\n",
       " 'D': 0.47984823819776296,\n",
       " 'E': 0.4015465239857808,\n",
       " 'F': 0.48026400193867513,\n",
       " 'G': 0.4723945591545161,\n",
       " 'H': 0.4944086658942093}"
      ]
     },
     "execution_count": 34,
     "metadata": {},
     "output_type": "execute_result"
    }
   ],
   "source": [
    "data"
   ]
  },
  {
   "cell_type": "code",
   "execution_count": 2,
   "metadata": {},
   "outputs": [
    {
     "data": {
      "text/plain": [
       "241570"
      ]
     },
     "execution_count": 2,
     "metadata": {},
     "output_type": "execute_result"
    }
   ],
   "source": [
    "len(data19)"
   ]
  },
  {
   "cell_type": "code",
   "execution_count": 3,
   "metadata": {},
   "outputs": [
    {
     "data": {
      "text/plain": [
       "210468"
      ]
     },
     "execution_count": 3,
     "metadata": {},
     "output_type": "execute_result"
    }
   ],
   "source": [
    "len(data20)"
   ]
  },
  {
   "cell_type": "code",
   "execution_count": 12,
   "metadata": {},
   "outputs": [
    {
     "data": {
      "text/html": [
       "<div>\n",
       "<style scoped>\n",
       "    .dataframe tbody tr th:only-of-type {\n",
       "        vertical-align: middle;\n",
       "    }\n",
       "\n",
       "    .dataframe tbody tr th {\n",
       "        vertical-align: top;\n",
       "    }\n",
       "\n",
       "    .dataframe thead th {\n",
       "        text-align: right;\n",
       "    }\n",
       "</style>\n",
       "<table border=\"1\" class=\"dataframe\">\n",
       "  <thead>\n",
       "    <tr style=\"text-align: right;\">\n",
       "      <th></th>\n",
       "      <th>YM</th>\n",
       "      <th>Category</th>\n",
       "      <th>성별구분</th>\n",
       "      <th>연령대</th>\n",
       "      <th>기혼스코어</th>\n",
       "      <th>유아자녀스코어</th>\n",
       "      <th>초등학생자녀스코어</th>\n",
       "      <th>중고생자녀스코어</th>\n",
       "      <th>대학생자녀스코어</th>\n",
       "      <th>전업주부스코어</th>\n",
       "    </tr>\n",
       "  </thead>\n",
       "  <tbody>\n",
       "    <tr>\n",
       "      <th>0</th>\n",
       "      <td>201905</td>\n",
       "      <td>전문몰</td>\n",
       "      <td>1</td>\n",
       "      <td>E</td>\n",
       "      <td>1</td>\n",
       "      <td>1</td>\n",
       "      <td>1</td>\n",
       "      <td>1</td>\n",
       "      <td>1</td>\n",
       "      <td>2</td>\n",
       "    </tr>\n",
       "    <tr>\n",
       "      <th>1</th>\n",
       "      <td>201905</td>\n",
       "      <td>전문몰</td>\n",
       "      <td>1</td>\n",
       "      <td>E</td>\n",
       "      <td>2</td>\n",
       "      <td>2</td>\n",
       "      <td>1</td>\n",
       "      <td>1</td>\n",
       "      <td>1</td>\n",
       "      <td>2</td>\n",
       "    </tr>\n",
       "    <tr>\n",
       "      <th>2</th>\n",
       "      <td>201905</td>\n",
       "      <td>할인점</td>\n",
       "      <td>1</td>\n",
       "      <td>F</td>\n",
       "      <td>3</td>\n",
       "      <td>1</td>\n",
       "      <td>2</td>\n",
       "      <td>2</td>\n",
       "      <td>2</td>\n",
       "      <td>2</td>\n",
       "    </tr>\n",
       "    <tr>\n",
       "      <th>3</th>\n",
       "      <td>201905</td>\n",
       "      <td>전문몰</td>\n",
       "      <td>0</td>\n",
       "      <td>G</td>\n",
       "      <td>3</td>\n",
       "      <td>1</td>\n",
       "      <td>2</td>\n",
       "      <td>2</td>\n",
       "      <td>2</td>\n",
       "      <td>1</td>\n",
       "    </tr>\n",
       "    <tr>\n",
       "      <th>4</th>\n",
       "      <td>201905</td>\n",
       "      <td>전문몰</td>\n",
       "      <td>1</td>\n",
       "      <td>H</td>\n",
       "      <td>3</td>\n",
       "      <td>1</td>\n",
       "      <td>1</td>\n",
       "      <td>1</td>\n",
       "      <td>2</td>\n",
       "      <td>2</td>\n",
       "    </tr>\n",
       "  </tbody>\n",
       "</table>\n",
       "</div>"
      ],
      "text/plain": [
       "       YM Category  성별구분 연령대  기혼스코어  유아자녀스코어  초등학생자녀스코어  중고생자녀스코어  대학생자녀스코어  \\\n",
       "0  201905      전문몰     1   E      1        1          1         1         1   \n",
       "1  201905      전문몰     1   E      2        2          1         1         1   \n",
       "2  201905      할인점     1   F      3        1          2         2         2   \n",
       "3  201905      전문몰     0   G      3        1          2         2         2   \n",
       "4  201905      전문몰     1   H      3        1          1         1         2   \n",
       "\n",
       "   전업주부스코어  \n",
       "0        2  \n",
       "1        2  \n",
       "2        2  \n",
       "3        1  \n",
       "4        2  "
      ]
     },
     "execution_count": 12,
     "metadata": {},
     "output_type": "execute_result"
    }
   ],
   "source": [
    "data19.head()"
   ]
  },
  {
   "cell_type": "code",
   "execution_count": 18,
   "metadata": {},
   "outputs": [],
   "source": [
    "ind=['기혼스코어','유아자녀스코어','초등학생자녀스코어','중고생자녀스코어','대학생자녀스코어','전업주부스코어']"
   ]
  },
  {
   "cell_type": "code",
   "execution_count": 19,
   "metadata": {},
   "outputs": [],
   "source": [
    "df19 = pd.DataFrame(data19,columns=ind)\n",
    "df20 = pd.DataFrame(data20,columns=ind)"
   ]
  },
  {
   "cell_type": "code",
   "execution_count": 20,
   "metadata": {},
   "outputs": [
    {
     "data": {
      "text/plain": [
       "기혼스코어        1187580\n",
       "유아자녀스코어       700927\n",
       "초등학생자녀스코어     849046\n",
       "중고생자녀스코어      785555\n",
       "대학생자녀스코어      559113\n",
       "전업주부스코어       695979\n",
       "dtype: int64"
      ]
     },
     "execution_count": 20,
     "metadata": {},
     "output_type": "execute_result"
    }
   ],
   "source": [
    "df19.sum(axis=0)+df20.sum(axis=0)"
   ]
  },
  {
   "cell_type": "code",
   "execution_count": 24,
   "metadata": {},
   "outputs": [],
   "source": [
    "data=dict()\n",
    "for index in ind:\n",
    "    temp=(data20.groupby('성별구분')[index].value_counts()+data19.groupby('성별구분')[index].value_counts())\n",
    "    try:\n",
    "        men_ratio=temp[0,3]/(temp[0,3]+temp[1,3])\n",
    "    except:\n",
    "        men_ratio=0/(0+temp[1,3])\n",
    "    data[index]=men_ratio"
   ]
  },
  {
   "cell_type": "code",
   "execution_count": 25,
   "metadata": {},
   "outputs": [
    {
     "data": {
      "text/plain": [
       "{'기혼스코어': 0.4773518165349091,\n",
       " '유아자녀스코어': 0.26090990423804633,\n",
       " '초등학생자녀스코어': 0.4730501539629645,\n",
       " '중고생자녀스코어': 0.4579644608623655,\n",
       " '대학생자녀스코어': 0.18926777689664287,\n",
       " '전업주부스코어': 0.0}"
      ]
     },
     "execution_count": 25,
     "metadata": {},
     "output_type": "execute_result"
    }
   ],
   "source": [
    "data"
   ]
  },
  {
   "cell_type": "code",
   "execution_count": null,
   "metadata": {},
   "outputs": [],
   "source": []
  }
 ],
 "metadata": {
  "kernelspec": {
   "display_name": "Python 3",
   "language": "python",
   "name": "python3"
  },
  "language_info": {
   "codemirror_mode": {
    "name": "ipython",
    "version": 3
   },
   "file_extension": ".py",
   "mimetype": "text/x-python",
   "name": "python",
   "nbconvert_exporter": "python",
   "pygments_lexer": "ipython3",
   "version": "3.8.3"
  }
 },
 "nbformat": 4,
 "nbformat_minor": 4
}
