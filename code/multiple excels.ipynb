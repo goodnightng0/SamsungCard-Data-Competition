{
 "cells": [
  {
   "cell_type": "code",
   "execution_count": 24,
   "metadata": {},
   "outputs": [],
   "source": [
    "import pandas as pd"
   ]
  },
  {
   "cell_type": "code",
   "execution_count": 50,
   "metadata": {},
   "outputs": [],
   "source": [
    "name=\"코로나 일상/daily\"\n",
    "new=pd.DataFrame()"
   ]
  },
  {
   "cell_type": "code",
   "execution_count": 51,
   "metadata": {},
   "outputs": [],
   "source": [
    "for i in range(1,31):\n",
    "    name_i=name+str(i)+\".xlsx\"\n",
    "    temp=pd.read_excel(name_i,encoding='CP949',header=None,names=[\"keyword\",\"date\",\"title\",\"text\"])\n",
    "    new=new.append(temp)"
   ]
  },
  {
   "cell_type": "code",
   "execution_count": 52,
   "metadata": {},
   "outputs": [
    {
     "data": {
      "text/html": [
       "<div>\n",
       "<style scoped>\n",
       "    .dataframe tbody tr th:only-of-type {\n",
       "        vertical-align: middle;\n",
       "    }\n",
       "\n",
       "    .dataframe tbody tr th {\n",
       "        vertical-align: top;\n",
       "    }\n",
       "\n",
       "    .dataframe thead th {\n",
       "        text-align: right;\n",
       "    }\n",
       "</style>\n",
       "<table border=\"1\" class=\"dataframe\">\n",
       "  <thead>\n",
       "    <tr style=\"text-align: right;\">\n",
       "      <th></th>\n",
       "      <th>keyword</th>\n",
       "      <th>date</th>\n",
       "      <th>title</th>\n",
       "      <th>text</th>\n",
       "    </tr>\n",
       "  </thead>\n",
       "  <tbody>\n",
       "    <tr>\n",
       "      <th>0</th>\n",
       "      <td>코로나 일상</td>\n",
       "      <td>2020. 9. 1. 1:10\\n\\t</td>\n",
       "      <td>NaN</td>\n",
       "      <td>마스크벌금과 8월 코로나 일상 (ft. 거리두기2.5단계)본문 기타 기능본문 폰트 ...</td>\n",
       "    </tr>\n",
       "    <tr>\n",
       "      <th>1</th>\n",
       "      <td>코로나 일상</td>\n",
       "      <td>2020. 9. 1. 1:17\\n\\t</td>\n",
       "      <td>NaN</td>\n",
       "      <td>코로나 일상본문 기타 기능본문 폰트 크기 작게 보기본문 폰트 크기 크게 보기가여름이...</td>\n",
       "    </tr>\n",
       "    <tr>\n",
       "      <th>2</th>\n",
       "      <td>코로나 일상</td>\n",
       "      <td>2020. 9. 1. 0:40\\n\\t</td>\n",
       "      <td>NaN</td>\n",
       "      <td>요즘 일상 : 코로나블루 극복을 위한 감사일기본문 기타 기능본문 폰트 크기 작게 보...</td>\n",
       "    </tr>\n",
       "    <tr>\n",
       "      <th>3</th>\n",
       "      <td>코로나 일상</td>\n",
       "      <td>2020. 9. 1. 22:37\\n\\t</td>\n",
       "      <td>NaN</td>\n",
       "      <td>지름신강림.. 식기세척기 그리고 코로나로인한 집콕일상본문 기타 기능본문 폰트 크기 ...</td>\n",
       "    </tr>\n",
       "    <tr>\n",
       "      <th>4</th>\n",
       "      <td>코로나 일상</td>\n",
       "      <td>2020. 9. 1. 16:49\\n\\t</td>\n",
       "      <td>NaN</td>\n",
       "      <td>코로나 2단계  슬기로운 집콕생활 (주말 일상 2020.08.28-30) 본문 기타...</td>\n",
       "    </tr>\n",
       "  </tbody>\n",
       "</table>\n",
       "</div>"
      ],
      "text/plain": [
       "  keyword                   date title  \\\n",
       "0  코로나 일상   2020. 9. 1. 1:10\\n\\t   NaN   \n",
       "1  코로나 일상   2020. 9. 1. 1:17\\n\\t   NaN   \n",
       "2  코로나 일상   2020. 9. 1. 0:40\\n\\t   NaN   \n",
       "3  코로나 일상  2020. 9. 1. 22:37\\n\\t   NaN   \n",
       "4  코로나 일상  2020. 9. 1. 16:49\\n\\t   NaN   \n",
       "\n",
       "                                                text  \n",
       "0  마스크벌금과 8월 코로나 일상 (ft. 거리두기2.5단계)본문 기타 기능본문 폰트 ...  \n",
       "1  코로나 일상본문 기타 기능본문 폰트 크기 작게 보기본문 폰트 크기 크게 보기가여름이...  \n",
       "2  요즘 일상 : 코로나블루 극복을 위한 감사일기본문 기타 기능본문 폰트 크기 작게 보...  \n",
       "3  지름신강림.. 식기세척기 그리고 코로나로인한 집콕일상본문 기타 기능본문 폰트 크기 ...  \n",
       "4  코로나 2단계  슬기로운 집콕생활 (주말 일상 2020.08.28-30) 본문 기타...  "
      ]
     },
     "execution_count": 52,
     "metadata": {},
     "output_type": "execute_result"
    }
   ],
   "source": [
    "new.head()"
   ]
  },
  {
   "cell_type": "code",
   "execution_count": 54,
   "metadata": {},
   "outputs": [
    {
     "name": "stderr",
     "output_type": "stream",
     "text": [
      "C:\\Users\\yurik\\anaconda3\\lib\\site-packages\\xlsxwriter\\worksheet.py:935: UserWarning: Ignoring URL 'https://blog.naver.com/mytravelogue/222100691824' with link or location/anchor > 2079 characters since it exceeds Excel's limit for URLS\n",
      "  warn(\"Ignoring URL '%s' with link or location/anchor > %d \"\n"
     ]
    }
   ],
   "source": [
    "len(new)\n",
    "new.to_excel(\"daily_covid.xlsx\",header=False,columns=[\"keyword\",\"date\",\"title\",\"text\"],index=False)"
   ]
  },
  {
   "cell_type": "code",
   "execution_count": 49,
   "metadata": {},
   "outputs": [
    {
     "ename": "TypeError",
     "evalue": "__init__() got an unexpected keyword argument 'index'",
     "output_type": "error",
     "traceback": [
      "\u001b[1;31m---------------------------------------------------------------------------\u001b[0m",
      "\u001b[1;31mTypeError\u001b[0m                                 Traceback (most recent call last)",
      "\u001b[1;32m<ipython-input-49-72b312cb2f1a>\u001b[0m in \u001b[0;36m<module>\u001b[1;34m\u001b[0m\n\u001b[1;32m----> 1\u001b[1;33m \u001b[0mwriter\u001b[0m \u001b[1;33m=\u001b[0m \u001b[0mpd\u001b[0m\u001b[1;33m.\u001b[0m\u001b[0mExcelWriter\u001b[0m\u001b[1;33m(\u001b[0m\u001b[1;34mr'file.xlsx'\u001b[0m\u001b[1;33m,\u001b[0m \u001b[0mengine\u001b[0m\u001b[1;33m=\u001b[0m\u001b[1;34m'xlsxwriter'\u001b[0m\u001b[1;33m,\u001b[0m\u001b[0moptions\u001b[0m\u001b[1;33m=\u001b[0m\u001b[1;33m{\u001b[0m\u001b[1;34m'strings_to_urls'\u001b[0m\u001b[1;33m:\u001b[0m \u001b[1;32mFalse\u001b[0m\u001b[1;33m}\u001b[0m\u001b[1;33m,\u001b[0m\u001b[0mindex\u001b[0m\u001b[1;33m=\u001b[0m\u001b[1;32mFalse\u001b[0m\u001b[1;33m)\u001b[0m\u001b[1;33m\u001b[0m\u001b[1;33m\u001b[0m\u001b[0m\n\u001b[0m\u001b[0;32m      2\u001b[0m \u001b[0mnew\u001b[0m\u001b[1;33m.\u001b[0m\u001b[0mto_excel\u001b[0m\u001b[1;33m(\u001b[0m\u001b[0mwriter\u001b[0m\u001b[1;33m)\u001b[0m\u001b[1;33m\u001b[0m\u001b[1;33m\u001b[0m\u001b[0m\n\u001b[0;32m      3\u001b[0m \u001b[0mwriter\u001b[0m\u001b[1;33m.\u001b[0m\u001b[0mclose\u001b[0m\u001b[1;33m(\u001b[0m\u001b[1;33m)\u001b[0m\u001b[1;33m\u001b[0m\u001b[1;33m\u001b[0m\u001b[0m\n",
      "\u001b[1;32m~\\anaconda3\\lib\\site-packages\\pandas\\io\\excel\\_xlsxwriter.py\u001b[0m in \u001b[0;36m__init__\u001b[1;34m(self, path, engine, date_format, datetime_format, mode, **engine_kwargs)\u001b[0m\n\u001b[0;32m    186\u001b[0m         )\n\u001b[0;32m    187\u001b[0m \u001b[1;33m\u001b[0m\u001b[0m\n\u001b[1;32m--> 188\u001b[1;33m         \u001b[0mself\u001b[0m\u001b[1;33m.\u001b[0m\u001b[0mbook\u001b[0m \u001b[1;33m=\u001b[0m \u001b[0mxlsxwriter\u001b[0m\u001b[1;33m.\u001b[0m\u001b[0mWorkbook\u001b[0m\u001b[1;33m(\u001b[0m\u001b[0mpath\u001b[0m\u001b[1;33m,\u001b[0m \u001b[1;33m**\u001b[0m\u001b[0mengine_kwargs\u001b[0m\u001b[1;33m)\u001b[0m\u001b[1;33m\u001b[0m\u001b[1;33m\u001b[0m\u001b[0m\n\u001b[0m\u001b[0;32m    189\u001b[0m \u001b[1;33m\u001b[0m\u001b[0m\n\u001b[0;32m    190\u001b[0m     \u001b[1;32mdef\u001b[0m \u001b[0msave\u001b[0m\u001b[1;33m(\u001b[0m\u001b[0mself\u001b[0m\u001b[1;33m)\u001b[0m\u001b[1;33m:\u001b[0m\u001b[1;33m\u001b[0m\u001b[1;33m\u001b[0m\u001b[0m\n",
      "\u001b[1;31mTypeError\u001b[0m: __init__() got an unexpected keyword argument 'index'"
     ]
    }
   ],
   "source": [
    "writer = pd.ExcelWriter(r'file.xlsx', engine='xlsxwriter',options={'strings_to_urls': False},index=False)\n",
    "new.to_excel(writer)\n",
    "writer.close()"
   ]
  },
  {
   "cell_type": "code",
   "execution_count": 20,
   "metadata": {},
   "outputs": [],
   "source": [
    "data_1=pd.read_excel(\"ysl covid.xlsx\",encoding='CP949',header=None,names=[\"keyword\",\"date\",\"title\",\"text\"])"
   ]
  },
  {
   "cell_type": "code",
   "execution_count": 77,
   "metadata": {},
   "outputs": [
    {
     "data": {
      "text/html": [
       "<div>\n",
       "<style scoped>\n",
       "    .dataframe tbody tr th:only-of-type {\n",
       "        vertical-align: middle;\n",
       "    }\n",
       "\n",
       "    .dataframe tbody tr th {\n",
       "        vertical-align: top;\n",
       "    }\n",
       "\n",
       "    .dataframe thead th {\n",
       "        text-align: right;\n",
       "    }\n",
       "</style>\n",
       "<table border=\"1\" class=\"dataframe\">\n",
       "  <thead>\n",
       "    <tr style=\"text-align: right;\">\n",
       "      <th></th>\n",
       "      <th>keyword</th>\n",
       "      <th>date</th>\n",
       "      <th>title</th>\n",
       "      <th>text</th>\n",
       "    </tr>\n",
       "  </thead>\n",
       "  <tbody>\n",
       "    <tr>\n",
       "      <th>0</th>\n",
       "      <td>구찌 코로나</td>\n",
       "      <td>2020. 4. 13. 14:39\\n\\t</td>\n",
       "      <td>NaN</td>\n",
       "      <td>코로나 일상 쇼핑_ 구찌 신발과 가방, 골프웨어 득템 @김포현대프리미엄아울렛본문 기...</td>\n",
       "    </tr>\n",
       "    <tr>\n",
       "      <th>1</th>\n",
       "      <td>구찌 코로나</td>\n",
       "      <td>2020. 4. 7. 23:31\\n\\t</td>\n",
       "      <td>NaN</td>\n",
       "      <td>[GUCCI] 신박한 구찌앱 다운로드완료!!! 구찌는 코로나19 위기 극복을 위한 ...</td>\n",
       "    </tr>\n",
       "    <tr>\n",
       "      <th>2</th>\n",
       "      <td>구찌 코로나</td>\n",
       "      <td>2020. 4. 2. 14:56\\n\\t</td>\n",
       "      <td>NaN</td>\n",
       "      <td>루이비통 세정제, 프라다.구찌가 마스크 제작 코로나19 위해 명품이 나선다!본문 기...</td>\n",
       "    </tr>\n",
       "    <tr>\n",
       "      <th>3</th>\n",
       "      <td>구찌 코로나</td>\n",
       "      <td>2020. 4. 3. 20:07\\n\\t</td>\n",
       "      <td>NaN</td>\n",
       "      <td>코로나대응  - 명품 기업들의 마스크 , 손소독제 (에르메스, 구찌, 루이비통)본문...</td>\n",
       "    </tr>\n",
       "    <tr>\n",
       "      <th>4</th>\n",
       "      <td>구찌 코로나</td>\n",
       "      <td>2020. 4. 2. 20:05\\n\\t</td>\n",
       "      <td>NaN</td>\n",
       "      <td>명품 람보르기니 구찌 프라다 마스크 샤넬포함 &amp;amp; 루이뷔통 손세정제 본문 기타...</td>\n",
       "    </tr>\n",
       "  </tbody>\n",
       "</table>\n",
       "</div>"
      ],
      "text/plain": [
       "  keyword                    date title  \\\n",
       "0  구찌 코로나  2020. 4. 13. 14:39\\n\\t   NaN   \n",
       "1  구찌 코로나   2020. 4. 7. 23:31\\n\\t   NaN   \n",
       "2  구찌 코로나   2020. 4. 2. 14:56\\n\\t   NaN   \n",
       "3  구찌 코로나   2020. 4. 3. 20:07\\n\\t   NaN   \n",
       "4  구찌 코로나   2020. 4. 2. 20:05\\n\\t   NaN   \n",
       "\n",
       "                                                text  \n",
       "0  코로나 일상 쇼핑_ 구찌 신발과 가방, 골프웨어 득템 @김포현대프리미엄아울렛본문 기...  \n",
       "1  [GUCCI] 신박한 구찌앱 다운로드완료!!! 구찌는 코로나19 위기 극복을 위한 ...  \n",
       "2  루이비통 세정제, 프라다.구찌가 마스크 제작 코로나19 위해 명품이 나선다!본문 기...  \n",
       "3  코로나대응  - 명품 기업들의 마스크 , 손소독제 (에르메스, 구찌, 루이비통)본문...  \n",
       "4  명품 람보르기니 구찌 프라다 마스크 샤넬포함 &amp; 루이뷔통 손세정제 본문 기타...  "
      ]
     },
     "execution_count": 77,
     "metadata": {},
     "output_type": "execute_result"
    }
   ],
   "source": [
    "data_1.head()"
   ]
  },
  {
   "cell_type": "code",
   "execution_count": 21,
   "metadata": {},
   "outputs": [],
   "source": [
    "data_2=pd.read_excel(\"gucci covid.xlsx\",encoding='CP949',header=None,names=[\"keyword\",\"date\",\"title\",\"text\"])"
   ]
  },
  {
   "cell_type": "code",
   "execution_count": 79,
   "metadata": {
    "scrolled": true
   },
   "outputs": [
    {
     "data": {
      "text/html": [
       "<div>\n",
       "<style scoped>\n",
       "    .dataframe tbody tr th:only-of-type {\n",
       "        vertical-align: middle;\n",
       "    }\n",
       "\n",
       "    .dataframe tbody tr th {\n",
       "        vertical-align: top;\n",
       "    }\n",
       "\n",
       "    .dataframe thead th {\n",
       "        text-align: right;\n",
       "    }\n",
       "</style>\n",
       "<table border=\"1\" class=\"dataframe\">\n",
       "  <thead>\n",
       "    <tr style=\"text-align: right;\">\n",
       "      <th></th>\n",
       "      <th>keyword</th>\n",
       "      <th>date</th>\n",
       "      <th>title</th>\n",
       "      <th>text</th>\n",
       "    </tr>\n",
       "  </thead>\n",
       "  <tbody>\n",
       "    <tr>\n",
       "      <th>0</th>\n",
       "      <td>구찌 코로나</td>\n",
       "      <td>NaN</td>\n",
       "      <td>[퍼스트룩] 코로나 시국의 패션 (5) - 구찌(Gucci)과 프라다(Prada),...</td>\n",
       "      <td>코로나 바이러스를 슬기롭게 대처하여 시국을 잘 견뎌내고 있는 우리나라의 뒤를 이어 ...</td>\n",
       "    </tr>\n",
       "    <tr>\n",
       "      <th>1</th>\n",
       "      <td>구찌 코로나</td>\n",
       "      <td>NaN</td>\n",
       "      <td>[기사] '구찌' SNS에 등장한 코로나19 우울 극복 EXO KAI의 한글 메시지</td>\n",
       "      <td>'엑소'의 멤버 카이가 이탈리아 패션 브랜드 '구찌'의 공식 인스타그램 계정에 자신...</td>\n",
       "    </tr>\n",
       "    <tr>\n",
       "      <th>2</th>\n",
       "      <td>구찌 코로나</td>\n",
       "      <td>2020. 4. 18. 16:10\\n\\t</td>\n",
       "      <td>NaN</td>\n",
       "      <td>코로나19 위기 극복ㅣ인디텍스, 구찌, 프라다 등 세계적 기업들의 따듯한 재능기부본...</td>\n",
       "    </tr>\n",
       "    <tr>\n",
       "      <th>3</th>\n",
       "      <td>구찌 코로나</td>\n",
       "      <td>2020. 4. 17. 15:13\\n\\t</td>\n",
       "      <td>NaN</td>\n",
       "      <td>구찌부터 몽마르트르의 아이콘까지-4월 문화가 있는 날 전시 추천공식블로그본문 기타 ...</td>\n",
       "    </tr>\n",
       "    <tr>\n",
       "      <th>4</th>\n",
       "      <td>구찌 코로나</td>\n",
       "      <td>2020. 4. 21. 20:38\\n\\t</td>\n",
       "      <td>NaN</td>\n",
       "      <td>[구찌전시회]굿즈 사러 미술관 옆집에 가기!본문 기타 기능본문 폰트 크기 작게 보기...</td>\n",
       "    </tr>\n",
       "  </tbody>\n",
       "</table>\n",
       "</div>"
      ],
      "text/plain": [
       "  keyword                    date  \\\n",
       "0  구찌 코로나                     NaN   \n",
       "1  구찌 코로나                     NaN   \n",
       "2  구찌 코로나  2020. 4. 18. 16:10\\n\\t   \n",
       "3  구찌 코로나  2020. 4. 17. 15:13\\n\\t   \n",
       "4  구찌 코로나  2020. 4. 21. 20:38\\n\\t   \n",
       "\n",
       "                                               title  \\\n",
       "0  [퍼스트룩] 코로나 시국의 패션 (5) - 구찌(Gucci)과 프라다(Prada),...   \n",
       "1     [기사] '구찌' SNS에 등장한 코로나19 우울 극복 EXO KAI의 한글 메시지   \n",
       "2                                                NaN   \n",
       "3                                                NaN   \n",
       "4                                                NaN   \n",
       "\n",
       "                                                text  \n",
       "0  코로나 바이러스를 슬기롭게 대처하여 시국을 잘 견뎌내고 있는 우리나라의 뒤를 이어 ...  \n",
       "1  '엑소'의 멤버 카이가 이탈리아 패션 브랜드 '구찌'의 공식 인스타그램 계정에 자신...  \n",
       "2  코로나19 위기 극복ㅣ인디텍스, 구찌, 프라다 등 세계적 기업들의 따듯한 재능기부본...  \n",
       "3  구찌부터 몽마르트르의 아이콘까지-4월 문화가 있는 날 전시 추천공식블로그본문 기타 ...  \n",
       "4  [구찌전시회]굿즈 사러 미술관 옆집에 가기!본문 기타 기능본문 폰트 크기 작게 보기...  "
      ]
     },
     "execution_count": 79,
     "metadata": {},
     "output_type": "execute_result"
    }
   ],
   "source": [
    "data_2.head()"
   ]
  },
  {
   "cell_type": "code",
   "execution_count": 80,
   "metadata": {},
   "outputs": [],
   "source": [
    "data_3=pd.read_excel(\"gucci_third.xlsx\",encoding='CP949',header=None,names=[\"keyword\",\"date\",\"title\",\"text\"])"
   ]
  },
  {
   "cell_type": "code",
   "execution_count": 81,
   "metadata": {},
   "outputs": [],
   "source": [
    "data_4=pd.read_excel(\"gucci_fourth.xlsx\",encoding='CP949',header=None,names=[\"keyword\",\"date\",\"title\",\"text\"])"
   ]
  },
  {
   "cell_type": "code",
   "execution_count": 47,
   "metadata": {},
   "outputs": [],
   "source": [
    "data_5=pd.read_excel(\"면세점 코로나/tax_five.xlsx\",encoding='CP949',header=None,names=[\"keyword\",\"date\",\"title\",\"text\"])"
   ]
  },
  {
   "cell_type": "code",
   "execution_count": 48,
   "metadata": {},
   "outputs": [],
   "source": [
    "data_6=pd.read_excel(\"면세점 코로나/tax_six.xlsx\",encoding='CP949',header=None,names=[\"keyword\",\"date\",\"title\",\"text\"])"
   ]
  },
  {
   "cell_type": "code",
   "execution_count": 49,
   "metadata": {},
   "outputs": [],
   "source": [
    "data_7=pd.read_excel(\"면세점 코로나/tax_seven.xlsx\",encoding='CP949',header=None,names=[\"keyword\",\"date\",\"title\",\"text\"])"
   ]
  },
  {
   "cell_type": "code",
   "execution_count": 50,
   "metadata": {},
   "outputs": [],
   "source": [
    "data_8=pd.read_excel(\"면세점 코로나/tax_eight.xlsx\",encoding='CP949',header=None,names=[\"keyword\",\"date\",\"title\",\"text\"])"
   ]
  },
  {
   "cell_type": "code",
   "execution_count": 82,
   "metadata": {},
   "outputs": [
    {
     "data": {
      "text/plain": [
       "960"
      ]
     },
     "execution_count": 82,
     "metadata": {},
     "output_type": "execute_result"
    }
   ],
   "source": [
    "len(data_1)"
   ]
  },
  {
   "cell_type": "code",
   "execution_count": 83,
   "metadata": {},
   "outputs": [
    {
     "data": {
      "text/plain": [
       "922"
      ]
     },
     "execution_count": 83,
     "metadata": {},
     "output_type": "execute_result"
    }
   ],
   "source": [
    "len(data_2)"
   ]
  },
  {
   "cell_type": "code",
   "execution_count": 84,
   "metadata": {},
   "outputs": [
    {
     "data": {
      "text/plain": [
       "916"
      ]
     },
     "execution_count": 84,
     "metadata": {},
     "output_type": "execute_result"
    }
   ],
   "source": [
    "len(data_3)"
   ]
  },
  {
   "cell_type": "code",
   "execution_count": 85,
   "metadata": {},
   "outputs": [
    {
     "data": {
      "text/plain": [
       "406"
      ]
     },
     "execution_count": 85,
     "metadata": {},
     "output_type": "execute_result"
    }
   ],
   "source": [
    "len(data_4)"
   ]
  },
  {
   "cell_type": "code",
   "execution_count": 22,
   "metadata": {},
   "outputs": [],
   "source": [
    "new_data=data_1.append(data_2)"
   ]
  },
  {
   "cell_type": "code",
   "execution_count": 87,
   "metadata": {},
   "outputs": [],
   "source": [
    "new_data=new_data.append(data_3)"
   ]
  },
  {
   "cell_type": "code",
   "execution_count": 88,
   "metadata": {},
   "outputs": [],
   "source": [
    "new_data=new_data.append(data_4)"
   ]
  },
  {
   "cell_type": "code",
   "execution_count": 54,
   "metadata": {},
   "outputs": [],
   "source": [
    "new_data=new_data.append(data_5)"
   ]
  },
  {
   "cell_type": "code",
   "execution_count": 55,
   "metadata": {},
   "outputs": [],
   "source": [
    "new_data=new_data.append(data_6)"
   ]
  },
  {
   "cell_type": "code",
   "execution_count": 56,
   "metadata": {},
   "outputs": [],
   "source": [
    "new_data=new_data.append(data_7)"
   ]
  },
  {
   "cell_type": "code",
   "execution_count": 57,
   "metadata": {},
   "outputs": [],
   "source": [
    "new_data=new_data.append(data_8)"
   ]
  },
  {
   "cell_type": "code",
   "execution_count": 89,
   "metadata": {},
   "outputs": [
    {
     "data": {
      "text/plain": [
       "3204"
      ]
     },
     "execution_count": 89,
     "metadata": {},
     "output_type": "execute_result"
    }
   ],
   "source": [
    "len(new_data)"
   ]
  },
  {
   "cell_type": "code",
   "execution_count": 90,
   "metadata": {},
   "outputs": [],
   "source": [
    "new_data = new_data[new_data['text'].notna()]"
   ]
  },
  {
   "cell_type": "code",
   "execution_count": 91,
   "metadata": {},
   "outputs": [
    {
     "data": {
      "text/plain": [
       "3192"
      ]
     },
     "execution_count": 91,
     "metadata": {},
     "output_type": "execute_result"
    }
   ],
   "source": [
    "len(new_data)"
   ]
  },
  {
   "cell_type": "code",
   "execution_count": 23,
   "metadata": {},
   "outputs": [],
   "source": [
    "new_data.to_excel(\"gucci_ysl.xlsx\",header=False,columns=[\"keyword\",\"date\",\"title\",\"text\"],index=False)"
   ]
  },
  {
   "cell_type": "code",
   "execution_count": 56,
   "metadata": {},
   "outputs": [],
   "source": [
    "temp=pd.read_excel(\"daily_covid.xlsx\",encoding='CP949',header=None,names=[\"keyword\",\"date\",\"title\",\"text\"])"
   ]
  },
  {
   "cell_type": "code",
   "execution_count": 57,
   "metadata": {},
   "outputs": [
    {
     "data": {
      "text/html": [
       "<div>\n",
       "<style scoped>\n",
       "    .dataframe tbody tr th:only-of-type {\n",
       "        vertical-align: middle;\n",
       "    }\n",
       "\n",
       "    .dataframe tbody tr th {\n",
       "        vertical-align: top;\n",
       "    }\n",
       "\n",
       "    .dataframe thead th {\n",
       "        text-align: right;\n",
       "    }\n",
       "</style>\n",
       "<table border=\"1\" class=\"dataframe\">\n",
       "  <thead>\n",
       "    <tr style=\"text-align: right;\">\n",
       "      <th></th>\n",
       "      <th>keyword</th>\n",
       "      <th>date</th>\n",
       "      <th>title</th>\n",
       "      <th>text</th>\n",
       "    </tr>\n",
       "  </thead>\n",
       "  <tbody>\n",
       "    <tr>\n",
       "      <th>0</th>\n",
       "      <td>코로나 일상</td>\n",
       "      <td>2020. 9. 1. 1:10\\n\\t</td>\n",
       "      <td>NaN</td>\n",
       "      <td>마스크벌금과 8월 코로나 일상 (ft. 거리두기2.5단계)본문 기타 기능본문 폰트 ...</td>\n",
       "    </tr>\n",
       "    <tr>\n",
       "      <th>1</th>\n",
       "      <td>코로나 일상</td>\n",
       "      <td>2020. 9. 1. 1:17\\n\\t</td>\n",
       "      <td>NaN</td>\n",
       "      <td>코로나 일상본문 기타 기능본문 폰트 크기 작게 보기본문 폰트 크기 크게 보기가여름이...</td>\n",
       "    </tr>\n",
       "    <tr>\n",
       "      <th>2</th>\n",
       "      <td>코로나 일상</td>\n",
       "      <td>2020. 9. 1. 0:40\\n\\t</td>\n",
       "      <td>NaN</td>\n",
       "      <td>요즘 일상 : 코로나블루 극복을 위한 감사일기본문 기타 기능본문 폰트 크기 작게 보...</td>\n",
       "    </tr>\n",
       "    <tr>\n",
       "      <th>3</th>\n",
       "      <td>코로나 일상</td>\n",
       "      <td>2020. 9. 1. 22:37\\n\\t</td>\n",
       "      <td>NaN</td>\n",
       "      <td>지름신강림.. 식기세척기 그리고 코로나로인한 집콕일상본문 기타 기능본문 폰트 크기 ...</td>\n",
       "    </tr>\n",
       "    <tr>\n",
       "      <th>4</th>\n",
       "      <td>코로나 일상</td>\n",
       "      <td>2020. 9. 1. 16:49\\n\\t</td>\n",
       "      <td>NaN</td>\n",
       "      <td>코로나 2단계  슬기로운 집콕생활 (주말 일상 2020.08.28-30) 본문 기타...</td>\n",
       "    </tr>\n",
       "  </tbody>\n",
       "</table>\n",
       "</div>"
      ],
      "text/plain": [
       "  keyword                   date title  \\\n",
       "0  코로나 일상   2020. 9. 1. 1:10\\n\\t   NaN   \n",
       "1  코로나 일상   2020. 9. 1. 1:17\\n\\t   NaN   \n",
       "2  코로나 일상   2020. 9. 1. 0:40\\n\\t   NaN   \n",
       "3  코로나 일상  2020. 9. 1. 22:37\\n\\t   NaN   \n",
       "4  코로나 일상  2020. 9. 1. 16:49\\n\\t   NaN   \n",
       "\n",
       "                                                text  \n",
       "0  마스크벌금과 8월 코로나 일상 (ft. 거리두기2.5단계)본문 기타 기능본문 폰트 ...  \n",
       "1  코로나 일상본문 기타 기능본문 폰트 크기 작게 보기본문 폰트 크기 크게 보기가여름이...  \n",
       "2  요즘 일상 : 코로나블루 극복을 위한 감사일기본문 기타 기능본문 폰트 크기 작게 보...  \n",
       "3  지름신강림.. 식기세척기 그리고 코로나로인한 집콕일상본문 기타 기능본문 폰트 크기 ...  \n",
       "4  코로나 2단계  슬기로운 집콕생활 (주말 일상 2020.08.28-30) 본문 기타...  "
      ]
     },
     "execution_count": 57,
     "metadata": {},
     "output_type": "execute_result"
    }
   ],
   "source": [
    "temp.head()"
   ]
  },
  {
   "cell_type": "code",
   "execution_count": null,
   "metadata": {},
   "outputs": [],
   "source": []
  }
 ],
 "metadata": {
  "kernelspec": {
   "display_name": "Python 3",
   "language": "python",
   "name": "python3"
  },
  "language_info": {
   "codemirror_mode": {
    "name": "ipython",
    "version": 3
   },
   "file_extension": ".py",
   "mimetype": "text/x-python",
   "name": "python",
   "nbconvert_exporter": "python",
   "pygments_lexer": "ipython3",
   "version": "3.8.3"
  }
 },
 "nbformat": 4,
 "nbformat_minor": 4
}
