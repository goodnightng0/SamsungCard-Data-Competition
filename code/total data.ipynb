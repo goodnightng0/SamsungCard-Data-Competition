{
 "cells": [
  {
   "cell_type": "code",
   "execution_count": 7,
   "metadata": {},
   "outputs": [],
   "source": [
    "import pandas as pd\n",
    "import numpy as np\n",
    "import matplotlib.pyplot as plt"
   ]
  },
  {
   "cell_type": "code",
   "execution_count": 13,
   "metadata": {},
   "outputs": [
    {
     "name": "stderr",
     "output_type": "stream",
     "text": [
      "C:\\Users\\yurik\\anaconda3\\lib\\site-packages\\xlrd\\xlsx.py:266: DeprecationWarning: This method will be removed in future versions.  Use 'tree.iter()' or 'list(tree.iter())' instead.\n",
      "  for elem in self.tree.iter() if Element_has_iter else self.tree.getiterator():\n",
      "C:\\Users\\yurik\\anaconda3\\lib\\site-packages\\xlrd\\xlsx.py:312: DeprecationWarning: This method will be removed in future versions.  Use 'tree.iter()' or 'list(tree.iter())' instead.\n",
      "  for elem in self.tree.iter() if Element_has_iter else self.tree.getiterator():\n"
     ]
    }
   ],
   "source": [
    "first=pd.read_excel(\"age1.xlsx\")\n",
    "second=pd.read_excel(\"age2.xlsx\")\n",
    "third=pd.read_excel(\"age3.xlsx\")"
   ]
  },
  {
   "cell_type": "code",
   "execution_count": 19,
   "metadata": {},
   "outputs": [
    {
     "name": "stderr",
     "output_type": "stream",
     "text": [
      "C:\\Users\\yurik\\anaconda3\\lib\\site-packages\\pyecharts\\charts\\chart.py:14: PendingDeprecationWarning: pyecharts 所有图表类型将在 v1.9.0 版本开始强制使用 ChartItem 进行数据项配置 :)\n",
      "  super().__init__(init_opts=init_opts)\n"
     ]
    }
   ],
   "source": [
    "from pyecharts import options as opts\n",
    "from pyecharts.charts import Bar\n",
    "from pyecharts.globals import ThemeType\n",
    "\n",
    "c = (\n",
    "    Bar({\"theme\": ThemeType.MACARONS})#{\"theme\": ThemeType.MACARONS}\n",
    "    .add_xaxis(list(first[\"Category\"][:10]))#초중고스코어\n",
    "    .add_yaxis(\"2019\", list(first[\"n\"][:10]/3))#19년도\n",
    "    .add_yaxis(\"2020\", list(first[\"n\"][10:]/3))#20년도\n",
    "    .set_global_opts(title_opts=opts.TitleOpts(title=\"Bar-MarkPoint\"),\n",
    "                    datazoom_opts=[opts.DataZoomOpts(), opts.DataZoomOpts(type_=\"inside\")],)\n",
    "    .set_series_opts(\n",
    "        label_opts=opts.LabelOpts(is_show=True),#bar 위에 수치 표시\n",
    "        markpoint_opts=opts.MarkPointOpts(\n",
    "            data=[\n",
    "                opts.MarkPointItem(type_=\"max\", name=\"max\"),\n",
    "                opts.MarkPointItem(type_=\"min\", name=\"min\"),\n",
    "            ]\n",
    "        ),\n",
    "    )\n",
    "    .render(\"age1.html\")\n",
    ")"
   ]
  },
  {
   "cell_type": "code",
   "execution_count": 23,
   "metadata": {},
   "outputs": [],
   "source": [
    "data19=pd.read_csv(\"data_2019.csv\",encoding='CP949')\n",
    "data20=pd.read_csv(\"data_2020.csv\",encoding='CP949')"
   ]
  },
  {
   "cell_type": "code",
   "execution_count": 24,
   "metadata": {},
   "outputs": [
    {
     "data": {
      "text/html": [
       "<div>\n",
       "<style scoped>\n",
       "    .dataframe tbody tr th:only-of-type {\n",
       "        vertical-align: middle;\n",
       "    }\n",
       "\n",
       "    .dataframe tbody tr th {\n",
       "        vertical-align: top;\n",
       "    }\n",
       "\n",
       "    .dataframe thead th {\n",
       "        text-align: right;\n",
       "    }\n",
       "</style>\n",
       "<table border=\"1\" class=\"dataframe\">\n",
       "  <thead>\n",
       "    <tr style=\"text-align: right;\">\n",
       "      <th></th>\n",
       "      <th>YM</th>\n",
       "      <th>Category</th>\n",
       "      <th>성별구분</th>\n",
       "      <th>연령대</th>\n",
       "      <th>기혼스코어</th>\n",
       "      <th>유아자녀스코어</th>\n",
       "      <th>초등학생자녀스코어</th>\n",
       "      <th>중고생자녀스코어</th>\n",
       "      <th>대학생자녀스코어</th>\n",
       "      <th>전업주부스코어</th>\n",
       "    </tr>\n",
       "  </thead>\n",
       "  <tbody>\n",
       "    <tr>\n",
       "      <th>0</th>\n",
       "      <td>201905</td>\n",
       "      <td>전문몰</td>\n",
       "      <td>1</td>\n",
       "      <td>E</td>\n",
       "      <td>1</td>\n",
       "      <td>1</td>\n",
       "      <td>1</td>\n",
       "      <td>1</td>\n",
       "      <td>1</td>\n",
       "      <td>2</td>\n",
       "    </tr>\n",
       "    <tr>\n",
       "      <th>1</th>\n",
       "      <td>201905</td>\n",
       "      <td>전문몰</td>\n",
       "      <td>1</td>\n",
       "      <td>E</td>\n",
       "      <td>2</td>\n",
       "      <td>2</td>\n",
       "      <td>1</td>\n",
       "      <td>1</td>\n",
       "      <td>1</td>\n",
       "      <td>2</td>\n",
       "    </tr>\n",
       "    <tr>\n",
       "      <th>2</th>\n",
       "      <td>201905</td>\n",
       "      <td>할인점</td>\n",
       "      <td>1</td>\n",
       "      <td>F</td>\n",
       "      <td>3</td>\n",
       "      <td>1</td>\n",
       "      <td>2</td>\n",
       "      <td>2</td>\n",
       "      <td>2</td>\n",
       "      <td>2</td>\n",
       "    </tr>\n",
       "    <tr>\n",
       "      <th>3</th>\n",
       "      <td>201905</td>\n",
       "      <td>전문몰</td>\n",
       "      <td>0</td>\n",
       "      <td>G</td>\n",
       "      <td>3</td>\n",
       "      <td>1</td>\n",
       "      <td>2</td>\n",
       "      <td>2</td>\n",
       "      <td>2</td>\n",
       "      <td>1</td>\n",
       "    </tr>\n",
       "    <tr>\n",
       "      <th>4</th>\n",
       "      <td>201905</td>\n",
       "      <td>전문몰</td>\n",
       "      <td>1</td>\n",
       "      <td>H</td>\n",
       "      <td>3</td>\n",
       "      <td>1</td>\n",
       "      <td>1</td>\n",
       "      <td>1</td>\n",
       "      <td>2</td>\n",
       "      <td>2</td>\n",
       "    </tr>\n",
       "  </tbody>\n",
       "</table>\n",
       "</div>"
      ],
      "text/plain": [
       "       YM Category  성별구분 연령대  기혼스코어  유아자녀스코어  초등학생자녀스코어  중고생자녀스코어  대학생자녀스코어  \\\n",
       "0  201905      전문몰     1   E      1        1          1         1         1   \n",
       "1  201905      전문몰     1   E      2        2          1         1         1   \n",
       "2  201905      할인점     1   F      3        1          2         2         2   \n",
       "3  201905      전문몰     0   G      3        1          2         2         2   \n",
       "4  201905      전문몰     1   H      3        1          1         1         2   \n",
       "\n",
       "   전업주부스코어  \n",
       "0        2  \n",
       "1        2  \n",
       "2        2  \n",
       "3        1  \n",
       "4        2  "
      ]
     },
     "execution_count": 24,
     "metadata": {},
     "output_type": "execute_result"
    }
   ],
   "source": [
    "data19.head()"
   ]
  },
  {
   "cell_type": "code",
   "execution_count": 25,
   "metadata": {},
   "outputs": [
    {
     "data": {
      "text/plain": [
       "1    128787\n",
       "0    112783\n",
       "Name: 성별구분, dtype: int64"
      ]
     },
     "execution_count": 25,
     "metadata": {},
     "output_type": "execute_result"
    }
   ],
   "source": [
    "data19['성별구분'].value_counts()"
   ]
  },
  {
   "cell_type": "code",
   "execution_count": 26,
   "metadata": {},
   "outputs": [
    {
     "data": {
      "text/plain": [
       "1    111549\n",
       "0     98919\n",
       "Name: 성별구분, dtype: int64"
      ]
     },
     "execution_count": 26,
     "metadata": {},
     "output_type": "execute_result"
    }
   ],
   "source": [
    "data20['성별구분'].value_counts()"
   ]
  },
  {
   "cell_type": "code",
   "execution_count": 27,
   "metadata": {},
   "outputs": [],
   "source": [
    "temp=[\"Male\",\"Female\"]\n",
    "pie19=[128787,112783]\n",
    "pie20=[111549,98919]"
   ]
  },
  {
   "cell_type": "code",
   "execution_count": 28,
   "metadata": {},
   "outputs": [
    {
     "name": "stderr",
     "output_type": "stream",
     "text": [
      "C:\\Users\\yurik\\anaconda3\\lib\\site-packages\\pyecharts\\charts\\chart.py:14: PendingDeprecationWarning: pyecharts 所有图表类型将在 v1.9.0 版本开始强制使用 ChartItem 进行数据项配置 :)\n",
      "  super().__init__(init_opts=init_opts)\n"
     ]
    },
    {
     "data": {
      "text/plain": [
       "'C:\\\\Users\\\\yurik\\\\juptyer\\\\삼성\\\\pie_rosetype.html'"
      ]
     },
     "execution_count": 28,
     "metadata": {},
     "output_type": "execute_result"
    }
   ],
   "source": [
    "from pyecharts import options as opts\n",
    "from pyecharts.charts import Pie\n",
    "\n",
    "c = (\n",
    "    Pie({\"theme\": ThemeType.CHALK})\n",
    "    .add(\n",
    "        \"\",\n",
    "        [list(z) for z in zip(temp,list(pie19))],\n",
    "        radius=[\"30%\", \"61%\"],\n",
    "        center=[\"28%\", \"50%\"],\n",
    "        rosetype=\"radius\",\n",
    "    )\n",
    "    .add(\n",
    "        \"\",\n",
    "        [list(z) for z in zip(temp,list(pie20))],\n",
    "        radius=[\"30%\", \"61%\"],\n",
    "        center=[\"72%\", \"50%\"],\n",
    "        rosetype=\"area\",\n",
    "    )\n",
    "    .set_global_opts(title_opts=opts.TitleOpts(title=\"Pie-charts\"),\n",
    "                    legend_opts=opts.LegendOpts(type_=\"scroll\", pos_left=\"100%\", orient=\"vertical\"),)\n",
    "    #.set_colors([\"blue\", \"green\", \"yellow\", \"red\", \"pink\", \"orange\", \"purple\"])\n",
    "    .render(\"pie_rosetype.html\")\n",
    ")\n",
    "\n",
    "c"
   ]
  },
  {
   "cell_type": "code",
   "execution_count": null,
   "metadata": {},
   "outputs": [],
   "source": []
  }
 ],
 "metadata": {
  "kernelspec": {
   "display_name": "Python 3",
   "language": "python",
   "name": "python3"
  },
  "language_info": {
   "codemirror_mode": {
    "name": "ipython",
    "version": 3
   },
   "file_extension": ".py",
   "mimetype": "text/x-python",
   "name": "python",
   "nbconvert_exporter": "python",
   "pygments_lexer": "ipython3",
   "version": "3.8.3"
  }
 },
 "nbformat": 4,
 "nbformat_minor": 4
}
